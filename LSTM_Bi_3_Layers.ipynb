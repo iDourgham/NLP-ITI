{
 "cells": [
  {
   "cell_type": "markdown",
   "id": "6bdb2236",
   "metadata": {
    "id": "6bdb2236"
   },
   "source": [
    "# RNN - LSTM"
   ]
  },
  {
   "cell_type": "markdown",
   "id": "9fa57d4c",
   "metadata": {
    "id": "9fa57d4c"
   },
   "source": [
    "# RNN  "
   ]
  },
  {
   "cell_type": "markdown",
   "id": "9d7644b2",
   "metadata": {
    "id": "9d7644b2"
   },
   "source": [
    "## LSTM"
   ]
  },
  {
   "cell_type": "code",
   "execution_count": null,
   "id": "6TXLIzHKFI8o",
   "metadata": {
    "colab": {
     "base_uri": "https://localhost:8080/",
     "height": 1000
    },
    "id": "6TXLIzHKFI8o",
    "outputId": "0c2c3ce3-d4e2-48e6-b496-c8459b882252"
   },
   "outputs": [
    {
     "name": "stdout",
     "output_type": "stream",
     "text": [
      "Requirement already satisfied: datasets in /usr/local/lib/python3.11/dist-packages (2.14.4)\n",
      "Collecting datasets\n",
      "  Downloading datasets-3.6.0-py3-none-any.whl.metadata (19 kB)\n",
      "Requirement already satisfied: fsspec in /usr/local/lib/python3.11/dist-packages (2025.3.2)\n",
      "Requirement already satisfied: filelock in /usr/local/lib/python3.11/dist-packages (from datasets) (3.18.0)\n",
      "Requirement already satisfied: numpy>=1.17 in /usr/local/lib/python3.11/dist-packages (from datasets) (2.0.2)\n",
      "Requirement already satisfied: pyarrow>=15.0.0 in /usr/local/lib/python3.11/dist-packages (from datasets) (18.1.0)\n",
      "Requirement already satisfied: dill<0.3.9,>=0.3.0 in /usr/local/lib/python3.11/dist-packages (from datasets) (0.3.7)\n",
      "Requirement already satisfied: pandas in /usr/local/lib/python3.11/dist-packages (from datasets) (2.2.2)\n",
      "Requirement already satisfied: requests>=2.32.2 in /usr/local/lib/python3.11/dist-packages (from datasets) (2.32.3)\n",
      "Requirement already satisfied: tqdm>=4.66.3 in /usr/local/lib/python3.11/dist-packages (from datasets) (4.67.1)\n",
      "Requirement already satisfied: xxhash in /usr/local/lib/python3.11/dist-packages (from datasets) (3.5.0)\n",
      "Requirement already satisfied: multiprocess<0.70.17 in /usr/local/lib/python3.11/dist-packages (from datasets) (0.70.15)\n",
      "Collecting fsspec\n",
      "  Downloading fsspec-2025.3.0-py3-none-any.whl.metadata (11 kB)\n",
      "Requirement already satisfied: huggingface-hub>=0.24.0 in /usr/local/lib/python3.11/dist-packages (from datasets) (0.31.1)\n",
      "Requirement already satisfied: packaging in /usr/local/lib/python3.11/dist-packages (from datasets) (24.2)\n",
      "Requirement already satisfied: pyyaml>=5.1 in /usr/local/lib/python3.11/dist-packages (from datasets) (6.0.2)\n",
      "Requirement already satisfied: aiohttp!=4.0.0a0,!=4.0.0a1 in /usr/local/lib/python3.11/dist-packages (from fsspec[http]<=2025.3.0,>=2023.1.0->datasets) (3.11.15)\n",
      "Requirement already satisfied: typing-extensions>=3.7.4.3 in /usr/local/lib/python3.11/dist-packages (from huggingface-hub>=0.24.0->datasets) (4.13.2)\n",
      "Requirement already satisfied: hf-xet<2.0.0,>=1.1.0 in /usr/local/lib/python3.11/dist-packages (from huggingface-hub>=0.24.0->datasets) (1.1.0)\n",
      "Requirement already satisfied: charset-normalizer<4,>=2 in /usr/local/lib/python3.11/dist-packages (from requests>=2.32.2->datasets) (3.4.2)\n",
      "Requirement already satisfied: idna<4,>=2.5 in /usr/local/lib/python3.11/dist-packages (from requests>=2.32.2->datasets) (3.10)\n",
      "Requirement already satisfied: urllib3<3,>=1.21.1 in /usr/local/lib/python3.11/dist-packages (from requests>=2.32.2->datasets) (2.4.0)\n",
      "Requirement already satisfied: certifi>=2017.4.17 in /usr/local/lib/python3.11/dist-packages (from requests>=2.32.2->datasets) (2025.4.26)\n",
      "Requirement already satisfied: python-dateutil>=2.8.2 in /usr/local/lib/python3.11/dist-packages (from pandas->datasets) (2.9.0.post0)\n",
      "Requirement already satisfied: pytz>=2020.1 in /usr/local/lib/python3.11/dist-packages (from pandas->datasets) (2025.2)\n",
      "Requirement already satisfied: tzdata>=2022.7 in /usr/local/lib/python3.11/dist-packages (from pandas->datasets) (2025.2)\n",
      "Requirement already satisfied: aiohappyeyeballs>=2.3.0 in /usr/local/lib/python3.11/dist-packages (from aiohttp!=4.0.0a0,!=4.0.0a1->fsspec[http]<=2025.3.0,>=2023.1.0->datasets) (2.6.1)\n",
      "Requirement already satisfied: aiosignal>=1.1.2 in /usr/local/lib/python3.11/dist-packages (from aiohttp!=4.0.0a0,!=4.0.0a1->fsspec[http]<=2025.3.0,>=2023.1.0->datasets) (1.3.2)\n",
      "Requirement already satisfied: attrs>=17.3.0 in /usr/local/lib/python3.11/dist-packages (from aiohttp!=4.0.0a0,!=4.0.0a1->fsspec[http]<=2025.3.0,>=2023.1.0->datasets) (25.3.0)\n",
      "Requirement already satisfied: frozenlist>=1.1.1 in /usr/local/lib/python3.11/dist-packages (from aiohttp!=4.0.0a0,!=4.0.0a1->fsspec[http]<=2025.3.0,>=2023.1.0->datasets) (1.6.0)\n",
      "Requirement already satisfied: multidict<7.0,>=4.5 in /usr/local/lib/python3.11/dist-packages (from aiohttp!=4.0.0a0,!=4.0.0a1->fsspec[http]<=2025.3.0,>=2023.1.0->datasets) (6.4.3)\n",
      "Requirement already satisfied: propcache>=0.2.0 in /usr/local/lib/python3.11/dist-packages (from aiohttp!=4.0.0a0,!=4.0.0a1->fsspec[http]<=2025.3.0,>=2023.1.0->datasets) (0.3.1)\n",
      "Requirement already satisfied: yarl<2.0,>=1.17.0 in /usr/local/lib/python3.11/dist-packages (from aiohttp!=4.0.0a0,!=4.0.0a1->fsspec[http]<=2025.3.0,>=2023.1.0->datasets) (1.20.0)\n",
      "Requirement already satisfied: six>=1.5 in /usr/local/lib/python3.11/dist-packages (from python-dateutil>=2.8.2->pandas->datasets) (1.17.0)\n",
      "Downloading datasets-3.6.0-py3-none-any.whl (491 kB)\n",
      "\u001b[2K   \u001b[90m━━━━━━━━━━━━━━━━━━━━━━━━━━━━━━━━━━━━━━━━\u001b[0m \u001b[32m491.5/491.5 kB\u001b[0m \u001b[31m14.7 MB/s\u001b[0m eta \u001b[36m0:00:00\u001b[0m\n",
      "\u001b[?25hDownloading fsspec-2025.3.0-py3-none-any.whl (193 kB)\n",
      "\u001b[2K   \u001b[90m━━━━━━━━━━━━━━━━━━━━━━━━━━━━━━━━━━━━━━━━\u001b[0m \u001b[32m193.6/193.6 kB\u001b[0m \u001b[31m20.8 MB/s\u001b[0m eta \u001b[36m0:00:00\u001b[0m\n",
      "\u001b[?25hInstalling collected packages: fsspec, datasets\n",
      "  Attempting uninstall: fsspec\n",
      "    Found existing installation: fsspec 2025.3.2\n",
      "    Uninstalling fsspec-2025.3.2:\n",
      "      Successfully uninstalled fsspec-2025.3.2\n",
      "  Attempting uninstall: datasets\n",
      "    Found existing installation: datasets 2.14.4\n",
      "    Uninstalling datasets-2.14.4:\n",
      "      Successfully uninstalled datasets-2.14.4\n",
      "\u001b[31mERROR: pip's dependency resolver does not currently take into account all the packages that are installed. This behaviour is the source of the following dependency conflicts.\n",
      "gcsfs 2025.3.2 requires fsspec==2025.3.2, but you have fsspec 2025.3.0 which is incompatible.\n",
      "torch 2.6.0+cu124 requires nvidia-cublas-cu12==12.4.5.8; platform_system == \"Linux\" and platform_machine == \"x86_64\", but you have nvidia-cublas-cu12 12.5.3.2 which is incompatible.\n",
      "torch 2.6.0+cu124 requires nvidia-cuda-cupti-cu12==12.4.127; platform_system == \"Linux\" and platform_machine == \"x86_64\", but you have nvidia-cuda-cupti-cu12 12.5.82 which is incompatible.\n",
      "torch 2.6.0+cu124 requires nvidia-cuda-nvrtc-cu12==12.4.127; platform_system == \"Linux\" and platform_machine == \"x86_64\", but you have nvidia-cuda-nvrtc-cu12 12.5.82 which is incompatible.\n",
      "torch 2.6.0+cu124 requires nvidia-cuda-runtime-cu12==12.4.127; platform_system == \"Linux\" and platform_machine == \"x86_64\", but you have nvidia-cuda-runtime-cu12 12.5.82 which is incompatible.\n",
      "torch 2.6.0+cu124 requires nvidia-cudnn-cu12==9.1.0.70; platform_system == \"Linux\" and platform_machine == \"x86_64\", but you have nvidia-cudnn-cu12 9.3.0.75 which is incompatible.\n",
      "torch 2.6.0+cu124 requires nvidia-cufft-cu12==11.2.1.3; platform_system == \"Linux\" and platform_machine == \"x86_64\", but you have nvidia-cufft-cu12 11.2.3.61 which is incompatible.\n",
      "torch 2.6.0+cu124 requires nvidia-curand-cu12==10.3.5.147; platform_system == \"Linux\" and platform_machine == \"x86_64\", but you have nvidia-curand-cu12 10.3.6.82 which is incompatible.\n",
      "torch 2.6.0+cu124 requires nvidia-cusolver-cu12==11.6.1.9; platform_system == \"Linux\" and platform_machine == \"x86_64\", but you have nvidia-cusolver-cu12 11.6.3.83 which is incompatible.\n",
      "torch 2.6.0+cu124 requires nvidia-cusparse-cu12==12.3.1.170; platform_system == \"Linux\" and platform_machine == \"x86_64\", but you have nvidia-cusparse-cu12 12.5.1.3 which is incompatible.\n",
      "torch 2.6.0+cu124 requires nvidia-nvjitlink-cu12==12.4.127; platform_system == \"Linux\" and platform_machine == \"x86_64\", but you have nvidia-nvjitlink-cu12 12.5.82 which is incompatible.\u001b[0m\u001b[31m\n",
      "\u001b[0mSuccessfully installed datasets-3.6.0 fsspec-2025.3.0\n"
     ]
    },
    {
     "data": {
      "application/vnd.colab-display-data+json": {
       "id": "853316a2c164465faa31f5c43654bfb2",
       "pip_warning": {
        "packages": [
         "datasets"
        ]
       }
      }
     },
     "metadata": {},
     "output_type": "display_data"
    }
   ],
   "source": [
    "pip install --upgrade datasets fsspec"
   ]
  },
  {
   "cell_type": "markdown",
   "id": "5d4d05e0",
   "metadata": {
    "id": "5d4d05e0"
   },
   "source": [
    "1. choose a dataset\n",
    "2. download and check the shape of the dataset\n",
    "4. clean the data if needed (hint: regex)\n",
    "5. decide the tokenization strategy (word , character , sub character)\n",
    "6. build the vocab\n",
    "7. build a wrapper around the dataset\n",
    "8. dataloader -> train[0] (input,label)\n",
    "9. Build network architecture\n",
    "10. Training loop\n",
    "11. evaluate\n"
   ]
  },
  {
   "cell_type": "code",
   "execution_count": null,
   "id": "2MOnqcast4WD",
   "metadata": {
    "id": "2MOnqcast4WD"
   },
   "outputs": [],
   "source": [
    "#pip install --upgrade datasets fsspec"
   ]
  },
  {
   "cell_type": "code",
   "execution_count": null,
   "id": "94398a55",
   "metadata": {
    "colab": {
     "base_uri": "https://localhost:8080/"
    },
    "id": "94398a55",
    "outputId": "61247cbd-6de1-41cc-f890-59275304954f"
   },
   "outputs": [
    {
     "name": "stdout",
     "output_type": "stream",
     "text": [
      "Libraries imported successfully!\n"
     ]
    }
   ],
   "source": [
    "# -----------------------\n",
    "import torch\n",
    "import torch.nn as nn\n",
    "import torch.optim as optim\n",
    "from torch.utils.data import Dataset, DataLoader\n",
    "import numpy as np\n",
    "import pandas as pd\n",
    "import matplotlib.pyplot as plt\n",
    "from sklearn.model_selection import train_test_split\n",
    "from tqdm import tqdm\n",
    "from collections import Counter\n",
    "import re\n",
    "\n",
    "# For text preprocessing\n",
    "import nltk\n",
    "from nltk.tokenize import word_tokenize\n",
    "#nltk.download('punkt')\n",
    "\n",
    "# For loading datasets\n",
    "from datasets import load_dataset\n",
    "\n",
    "# Set random seed for reproducibility\n",
    "torch.manual_seed(42)\n",
    "np.random.seed(42)\n",
    "\n",
    "print(\"Libraries imported successfully!\")"
   ]
  },
  {
   "cell_type": "code",
   "execution_count": null,
   "id": "c05864d1",
   "metadata": {
    "colab": {
     "base_uri": "https://localhost:8080/",
     "height": 509,
     "referenced_widgets": [
      "b350b8873d114e858e56ea9b9439722c",
      "1c8b14b199df4f41965872ba0ecec655",
      "1c86772a731f4148b2aabd31922e0231",
      "3e0a50ebada5429b9e5a59b5d0031bff",
      "b88e4c536432441abd9003e40c79fee0",
      "ef1c1b30782c41c0a6f31c88b6cb70e3",
      "3e0dedc6ae0a4f7bbdec064465457556",
      "83d67e12405248d096468bda0ff9eee8",
      "efcabc91b9444d1eac0eaaefa4cd4941",
      "0169e609e0db4009931bdc1e776b4241",
      "c216fa04cd484d3a9f0146cb1796309e",
      "b1e6500ec92242f7bddf0f82d5730d21",
      "a0d3fc8f76b549fdb1100e069680af35",
      "6fb74ed67a6a4b0ab0baf452f5a10f34",
      "2a097c19631647f4b403291c7b097dcd",
      "f90b49b1e32d40f6a793223b75a5a3c6",
      "310a437a7ea44b63a6682ba4f58ead8b",
      "be89b14ba5044e968ca5fbc7fa00aa6b",
      "bbdfba6562034cc6a0f1c5fbdfddca88",
      "90624b5b3de14baf919533cd2947a877",
      "d636dad8a12645999626a384adc59780",
      "937092b98381468f93f62e7243f4ca00",
      "b0de79addf27410fab135c6be6bdaf81",
      "2ba9baa109e7426c87b51de0d6410650",
      "01e76d9fd61b43b0b1c558ac940cc77e",
      "3fe48e3b1074454bbec01dc562d7d1e2",
      "0222647f4c814cf599c7a10c6baf9b33",
      "6656bf8e8a664752b534dcb15f7b7991",
      "31e5c7c636124bc593c289e3b4371b14",
      "ebde0ae3c0204feda8b2ef2f3f9aacad",
      "5310bf300e004da48fd9e771b0c7045c",
      "b0f77412b8e247de916211561b18a02a",
      "3ddada2a715945218ca5276521dae13f",
      "93c053f8ee9a4b328986aa2533ee0612",
      "8c09a5b27ac94afbbb0a9c883ff65274",
      "b264d1341fdf44d4a8109ce4fa122948",
      "be63ebc13a5c404a86400f57c5493a4d",
      "69c1326b8f6447bcb2d7658ecc2a5aab",
      "361251c7972c4dcb93591e9a8df51f0d",
      "e95868db0da1494bb581b0dfa2024371",
      "be7537dbfd2341c088fa36d25731c733",
      "af6dff58f9194343b06c1a301f2acbed",
      "9c73e13e99564d8980d4e3d8bfbd5eb2",
      "3ec76677f98b42109f4a85f8fb4ea4e4",
      "9cf99a8cbf9548aebd6a23b3098d9dee",
      "d2f93b9f3d5c4446bc1887266e5da4b6",
      "4a3695e8676b43aca63640bc34769b92",
      "f09eb5b59a2f4380bb8331ddee18e0c7",
      "5f55f849400046b1b6c27339b5b903e4",
      "3dce067eca244adb8056dfb71016cc65",
      "5f48aa62e6684aba83d915824b432106",
      "16d88fbe20b549699436a4d229801020",
      "1b3512c728474ed4a329d7ea7c41e3c9",
      "079e870cad5847028af4923354ea0e22",
      "5b8061095cc54bf3afe8087e2179f864",
      "7e1ea3cca45a4d2bbfb6dbc6aadd72c4",
      "41b9979a78a54a55b3116ca66dc1622b",
      "27926181e2bf4449a4e72640d0c2fdd5",
      "be8cbb4e7a4e4e4194b0d1f59752b5ed",
      "3540f5fdd48e431e9e46afe3633c212e",
      "ea9da7c27b5c4a0099c1720b65278ddd",
      "1b11ec04bfa0466194f8856beec708e1",
      "6a86ee8d38bd497683970372bea8a1fc",
      "8d48edcdd43340e7bca3f4fe4803e23e",
      "0fa0ec68f1a34ffd8b86dab79c3c3b62",
      "5c4c6e86a58e4553bdeb05be29d8e23e",
      "763768a2486d4a96a8bd3c7b7efeedfb",
      "a4bb30a9e42944b184bfac645c4d7f6e",
      "e8af56612b4e4abe9ec303d9c19bf8bd",
      "1b00b8cfe35f4b9681d3874de6a615b3",
      "35c59cb3bee148c3a0aab9b114d3d92f",
      "376e8be101eb4c5e964ef5997d65a204",
      "053483ed679b4c2781a60807512e6046",
      "4ea3d74db2bb4aebb85fac61a1728dd4",
      "ac86ea626d2a46408ac861bb636eb22c",
      "f31c29aab2c04f0dbd11f0e91037373b",
      "a3fc3cc28feb42adab04dcf2c86345cd"
     ]
    },
    "id": "c05864d1",
    "outputId": "ff8cab4e-8c38-4934-afb4-c4818cd876f2"
   },
   "outputs": [
    {
     "name": "stderr",
     "output_type": "stream",
     "text": [
      "/usr/local/lib/python3.11/dist-packages/huggingface_hub/utils/_auth.py:94: UserWarning: \n",
      "The secret `HF_TOKEN` does not exist in your Colab secrets.\n",
      "To authenticate with the Hugging Face Hub, create a token in your settings tab (https://huggingface.co/settings/tokens), set it as secret in your Google Colab and restart your session.\n",
      "You will be able to reuse this secret in all of your notebooks.\n",
      "Please note that authentication is recommended but still optional to access public models or datasets.\n",
      "  warnings.warn(\n"
     ]
    },
    {
     "data": {
      "application/vnd.jupyter.widget-view+json": {
       "model_id": "b350b8873d114e858e56ea9b9439722c",
       "version_major": 2,
       "version_minor": 0
      },
      "text/plain": [
       "README.md:   0%|          | 0.00/7.81k [00:00<?, ?B/s]"
      ]
     },
     "metadata": {},
     "output_type": "display_data"
    },
    {
     "data": {
      "application/vnd.jupyter.widget-view+json": {
       "model_id": "b1e6500ec92242f7bddf0f82d5730d21",
       "version_major": 2,
       "version_minor": 0
      },
      "text/plain": [
       "train-00000-of-00001.parquet:   0%|          | 0.00/21.0M [00:00<?, ?B/s]"
      ]
     },
     "metadata": {},
     "output_type": "display_data"
    },
    {
     "data": {
      "application/vnd.jupyter.widget-view+json": {
       "model_id": "b0de79addf27410fab135c6be6bdaf81",
       "version_major": 2,
       "version_minor": 0
      },
      "text/plain": [
       "test-00000-of-00001.parquet:   0%|          | 0.00/20.5M [00:00<?, ?B/s]"
      ]
     },
     "metadata": {},
     "output_type": "display_data"
    },
    {
     "data": {
      "application/vnd.jupyter.widget-view+json": {
       "model_id": "93c053f8ee9a4b328986aa2533ee0612",
       "version_major": 2,
       "version_minor": 0
      },
      "text/plain": [
       "unsupervised-00000-of-00001.parquet:   0%|          | 0.00/42.0M [00:00<?, ?B/s]"
      ]
     },
     "metadata": {},
     "output_type": "display_data"
    },
    {
     "data": {
      "application/vnd.jupyter.widget-view+json": {
       "model_id": "9cf99a8cbf9548aebd6a23b3098d9dee",
       "version_major": 2,
       "version_minor": 0
      },
      "text/plain": [
       "Generating train split:   0%|          | 0/25000 [00:00<?, ? examples/s]"
      ]
     },
     "metadata": {},
     "output_type": "display_data"
    },
    {
     "data": {
      "application/vnd.jupyter.widget-view+json": {
       "model_id": "7e1ea3cca45a4d2bbfb6dbc6aadd72c4",
       "version_major": 2,
       "version_minor": 0
      },
      "text/plain": [
       "Generating test split:   0%|          | 0/25000 [00:00<?, ? examples/s]"
      ]
     },
     "metadata": {},
     "output_type": "display_data"
    },
    {
     "data": {
      "application/vnd.jupyter.widget-view+json": {
       "model_id": "763768a2486d4a96a8bd3c7b7efeedfb",
       "version_major": 2,
       "version_minor": 0
      },
      "text/plain": [
       "Generating unsupervised split:   0%|          | 0/50000 [00:00<?, ? examples/s]"
      ]
     },
     "metadata": {},
     "output_type": "display_data"
    },
    {
     "name": "stdout",
     "output_type": "stream",
     "text": [
      "Dataset loaded! Total training examples: 25000\n",
      "Sample review (text): I rented I AM CURIOUS-YELLOW from my video store because of all the controversy that surrounded it w...\n",
      "Sample label (0=negative, 1=positive): 0\n"
     ]
    }
   ],
   "source": [
    "from datasets import load_dataset\n",
    "\n",
    "# Download the dataset\n",
    "dataset = load_dataset(\"imdb\")\n",
    "\n",
    "# Get train and test data\n",
    "train_data = dataset[\"train\"]\n",
    "test_data = dataset[\"test\"]\n",
    "\n",
    "# Display sample data\n",
    "print(f\"Dataset loaded! Total training examples: {len(train_data)}\")\n",
    "print(f\"Sample review (text): {train_data[0]['text'][:100]}...\")\n",
    "print(f\"Sample label (0=negative, 1=positive): {train_data[0]['label']}\")\n"
   ]
  },
  {
   "cell_type": "code",
   "execution_count": null,
   "id": "m0Wwja5hvI7O",
   "metadata": {
    "colab": {
     "base_uri": "https://localhost:8080/"
    },
    "id": "m0Wwja5hvI7O",
    "outputId": "70a504da-dab7-43e8-f490-b57e59b695ea"
   },
   "outputs": [
    {
     "data": {
      "text/plain": [
       "DatasetDict({\n",
       "    train: Dataset({\n",
       "        features: ['text', 'label'],\n",
       "        num_rows: 25000\n",
       "    })\n",
       "    test: Dataset({\n",
       "        features: ['text', 'label'],\n",
       "        num_rows: 25000\n",
       "    })\n",
       "    unsupervised: Dataset({\n",
       "        features: ['text', 'label'],\n",
       "        num_rows: 50000\n",
       "    })\n",
       "})"
      ]
     },
     "execution_count": 3,
     "metadata": {},
     "output_type": "execute_result"
    }
   ],
   "source": [
    "dataset"
   ]
  },
  {
   "cell_type": "code",
   "execution_count": null,
   "id": "HapC_E2YvbrR",
   "metadata": {
    "colab": {
     "base_uri": "https://localhost:8080/",
     "height": 206
    },
    "id": "HapC_E2YvbrR",
    "outputId": "ead3a0f6-0c92-4098-9c22-a36c206c47f9"
   },
   "outputs": [
    {
     "data": {
      "application/vnd.google.colaboratory.intrinsic+json": {
       "summary": "{\n  \"name\": \"df_train\",\n  \"rows\": 25000,\n  \"fields\": [\n    {\n      \"column\": \"text\",\n      \"properties\": {\n        \"dtype\": \"string\",\n        \"num_unique_values\": 24904,\n        \"samples\": [\n          \"Although I didn't like Stanley & Iris tremendously as a film, I did admire the acting. Jane Fonda and Robert De Niro are great in this movie. I haven't always been a fan of Fonda's work but here she is delicate and strong at the same time. De Niro has the ability to make every role he portrays into acting gold. He gives a great performance in this film and there is a great scene where he has to take his father to a home for elderly people because he can't care for him anymore that will break your heart. I wouldn't really recommend this film as a great cinematic entertainment, but I will say you won't see much bette acting anywhere.\",\n          \"Yet again one of the most misunderstood Goddesses of my country has been twisted by \\\"Westerners\\\" who cannot understand the esoteric symbolism of the Mother Goddess in her dark forms. The Mother takes on the frightening form of Kali Mata to destroy our inner demons, and to terrify our egos. And though blood sacrifice is given to Kali and Durga, the events depicted in this film are just absurd. The Mother takes on a wrathful form to be wrathful to our inner demons, limitations, and ego when no other form will suffice. It's also in her wrathful form that she burns away all your Karmas in the \\\"Smashan\\\" fires that you cultivate in your heart for her to dance on if you love her, and she will bring you to reality and truth. Reality and truth has a dark side as well as light, which serves a purpose. The Mother is the embodiment of the physical Universe as well, she is Nature. Nature can be cruel and destructive to maintain balance. You cannot have growth and life without death and destruction. Kali represents the force of destruction for the purpose of new growth and life both mundane and spiritual in the universe. It's very outrageous to me that people who know nothing of India or it's divinity can just take one of our beloved Goddesses and use her like a cheap prostitute to make some low-budget, talentless horror film. How dare they take our beloved Mother and portray her as a horror that makes people chop their eyelids off!? She is only horrific to those who are attached to their ego and who live in delusion , greed, anger, and other inner-demons. It's very clear to me that the person who wrote this movie must have a very serious self-deluding ego, and serious inner-demons to see Kali as so horrible and terrible. When the ego drops away she becomes a form that is enchanting, beautiful, and young, a beauty that is so enchanting to behold that she enchants the entire Universe with it. Kali Maa is an ancient Mother, not to be trifled with for the sake of entertainment, let's just hope that in her endless compassion and mercy that she does not take on wrathful form to those involved with this movie.<br /><br />The audacity that Westerners have in using religions like my own, or the religions of the Caribbean Islands such as Santeria, and Vodou which are actually very positive, and other such religions to twist and exaggerate misunderstood elements that the Western mind cannot comprehend, is totally ridiculous. It's clear that there is no respect for what people live, breathe and believe in when it comes to these kind of flicks.<br /><br />Kali Maa in reality is a caring and compassionate mother, whom we shed tears at her beautiful feet in devotion and love for. And I am happy that my Mother takes on wrathful form sometimes to protect her devotees from themselves and from outside forces.<br /><br />Many Praises to the REAL Kali Maa, who has shown MANY the path of God and realization.\",\n          \"Paris is the place to be to enjoy beautiful art and music, and to fall madly in love - as is the case in this film. Boy meets girl, they fall in love, but something stands in their way of eternal happiness, the classic story.<br /><br />The wonderful music of George Gerschwin complements the great dancing by Gene Kelly and Leslie Caron. \\\"An American in Paris\\\" is a humorous, light-hearted, loving film well worth watching.<br /><br />8/10<br /><br />\"\n        ],\n        \"semantic_type\": \"\",\n        \"description\": \"\"\n      }\n    },\n    {\n      \"column\": \"label\",\n      \"properties\": {\n        \"dtype\": \"number\",\n        \"std\": 0,\n        \"min\": 0,\n        \"max\": 1,\n        \"num_unique_values\": 2,\n        \"samples\": [\n          1,\n          0\n        ],\n        \"semantic_type\": \"\",\n        \"description\": \"\"\n      }\n    }\n  ]\n}",
       "type": "dataframe",
       "variable_name": "df_train"
      },
      "text/html": [
       "\n",
       "  <div id=\"df-9b9ad565-084c-48e8-98c9-bacc73f28fd1\" class=\"colab-df-container\">\n",
       "    <div>\n",
       "<style scoped>\n",
       "    .dataframe tbody tr th:only-of-type {\n",
       "        vertical-align: middle;\n",
       "    }\n",
       "\n",
       "    .dataframe tbody tr th {\n",
       "        vertical-align: top;\n",
       "    }\n",
       "\n",
       "    .dataframe thead th {\n",
       "        text-align: right;\n",
       "    }\n",
       "</style>\n",
       "<table border=\"1\" class=\"dataframe\">\n",
       "  <thead>\n",
       "    <tr style=\"text-align: right;\">\n",
       "      <th></th>\n",
       "      <th>text</th>\n",
       "      <th>label</th>\n",
       "    </tr>\n",
       "  </thead>\n",
       "  <tbody>\n",
       "    <tr>\n",
       "      <th>0</th>\n",
       "      <td>I rented I AM CURIOUS-YELLOW from my video sto...</td>\n",
       "      <td>0</td>\n",
       "    </tr>\n",
       "    <tr>\n",
       "      <th>1</th>\n",
       "      <td>\"I Am Curious: Yellow\" is a risible and preten...</td>\n",
       "      <td>0</td>\n",
       "    </tr>\n",
       "    <tr>\n",
       "      <th>2</th>\n",
       "      <td>If only to avoid making this type of film in t...</td>\n",
       "      <td>0</td>\n",
       "    </tr>\n",
       "    <tr>\n",
       "      <th>3</th>\n",
       "      <td>This film was probably inspired by Godard's Ma...</td>\n",
       "      <td>0</td>\n",
       "    </tr>\n",
       "    <tr>\n",
       "      <th>4</th>\n",
       "      <td>Oh, brother...after hearing about this ridicul...</td>\n",
       "      <td>0</td>\n",
       "    </tr>\n",
       "  </tbody>\n",
       "</table>\n",
       "</div>\n",
       "    <div class=\"colab-df-buttons\">\n",
       "\n",
       "  <div class=\"colab-df-container\">\n",
       "    <button class=\"colab-df-convert\" onclick=\"convertToInteractive('df-9b9ad565-084c-48e8-98c9-bacc73f28fd1')\"\n",
       "            title=\"Convert this dataframe to an interactive table.\"\n",
       "            style=\"display:none;\">\n",
       "\n",
       "  <svg xmlns=\"http://www.w3.org/2000/svg\" height=\"24px\" viewBox=\"0 -960 960 960\">\n",
       "    <path d=\"M120-120v-720h720v720H120Zm60-500h600v-160H180v160Zm220 220h160v-160H400v160Zm0 220h160v-160H400v160ZM180-400h160v-160H180v160Zm440 0h160v-160H620v160ZM180-180h160v-160H180v160Zm440 0h160v-160H620v160Z\"/>\n",
       "  </svg>\n",
       "    </button>\n",
       "\n",
       "  <style>\n",
       "    .colab-df-container {\n",
       "      display:flex;\n",
       "      gap: 12px;\n",
       "    }\n",
       "\n",
       "    .colab-df-convert {\n",
       "      background-color: #E8F0FE;\n",
       "      border: none;\n",
       "      border-radius: 50%;\n",
       "      cursor: pointer;\n",
       "      display: none;\n",
       "      fill: #1967D2;\n",
       "      height: 32px;\n",
       "      padding: 0 0 0 0;\n",
       "      width: 32px;\n",
       "    }\n",
       "\n",
       "    .colab-df-convert:hover {\n",
       "      background-color: #E2EBFA;\n",
       "      box-shadow: 0px 1px 2px rgba(60, 64, 67, 0.3), 0px 1px 3px 1px rgba(60, 64, 67, 0.15);\n",
       "      fill: #174EA6;\n",
       "    }\n",
       "\n",
       "    .colab-df-buttons div {\n",
       "      margin-bottom: 4px;\n",
       "    }\n",
       "\n",
       "    [theme=dark] .colab-df-convert {\n",
       "      background-color: #3B4455;\n",
       "      fill: #D2E3FC;\n",
       "    }\n",
       "\n",
       "    [theme=dark] .colab-df-convert:hover {\n",
       "      background-color: #434B5C;\n",
       "      box-shadow: 0px 1px 3px 1px rgba(0, 0, 0, 0.15);\n",
       "      filter: drop-shadow(0px 1px 2px rgba(0, 0, 0, 0.3));\n",
       "      fill: #FFFFFF;\n",
       "    }\n",
       "  </style>\n",
       "\n",
       "    <script>\n",
       "      const buttonEl =\n",
       "        document.querySelector('#df-9b9ad565-084c-48e8-98c9-bacc73f28fd1 button.colab-df-convert');\n",
       "      buttonEl.style.display =\n",
       "        google.colab.kernel.accessAllowed ? 'block' : 'none';\n",
       "\n",
       "      async function convertToInteractive(key) {\n",
       "        const element = document.querySelector('#df-9b9ad565-084c-48e8-98c9-bacc73f28fd1');\n",
       "        const dataTable =\n",
       "          await google.colab.kernel.invokeFunction('convertToInteractive',\n",
       "                                                    [key], {});\n",
       "        if (!dataTable) return;\n",
       "\n",
       "        const docLinkHtml = 'Like what you see? Visit the ' +\n",
       "          '<a target=\"_blank\" href=https://colab.research.google.com/notebooks/data_table.ipynb>data table notebook</a>'\n",
       "          + ' to learn more about interactive tables.';\n",
       "        element.innerHTML = '';\n",
       "        dataTable['output_type'] = 'display_data';\n",
       "        await google.colab.output.renderOutput(dataTable, element);\n",
       "        const docLink = document.createElement('div');\n",
       "        docLink.innerHTML = docLinkHtml;\n",
       "        element.appendChild(docLink);\n",
       "      }\n",
       "    </script>\n",
       "  </div>\n",
       "\n",
       "\n",
       "    <div id=\"df-b3a1e7ca-9cd9-40e5-93bc-51b5397a6038\">\n",
       "      <button class=\"colab-df-quickchart\" onclick=\"quickchart('df-b3a1e7ca-9cd9-40e5-93bc-51b5397a6038')\"\n",
       "                title=\"Suggest charts\"\n",
       "                style=\"display:none;\">\n",
       "\n",
       "<svg xmlns=\"http://www.w3.org/2000/svg\" height=\"24px\"viewBox=\"0 0 24 24\"\n",
       "     width=\"24px\">\n",
       "    <g>\n",
       "        <path d=\"M19 3H5c-1.1 0-2 .9-2 2v14c0 1.1.9 2 2 2h14c1.1 0 2-.9 2-2V5c0-1.1-.9-2-2-2zM9 17H7v-7h2v7zm4 0h-2V7h2v10zm4 0h-2v-4h2v4z\"/>\n",
       "    </g>\n",
       "</svg>\n",
       "      </button>\n",
       "\n",
       "<style>\n",
       "  .colab-df-quickchart {\n",
       "      --bg-color: #E8F0FE;\n",
       "      --fill-color: #1967D2;\n",
       "      --hover-bg-color: #E2EBFA;\n",
       "      --hover-fill-color: #174EA6;\n",
       "      --disabled-fill-color: #AAA;\n",
       "      --disabled-bg-color: #DDD;\n",
       "  }\n",
       "\n",
       "  [theme=dark] .colab-df-quickchart {\n",
       "      --bg-color: #3B4455;\n",
       "      --fill-color: #D2E3FC;\n",
       "      --hover-bg-color: #434B5C;\n",
       "      --hover-fill-color: #FFFFFF;\n",
       "      --disabled-bg-color: #3B4455;\n",
       "      --disabled-fill-color: #666;\n",
       "  }\n",
       "\n",
       "  .colab-df-quickchart {\n",
       "    background-color: var(--bg-color);\n",
       "    border: none;\n",
       "    border-radius: 50%;\n",
       "    cursor: pointer;\n",
       "    display: none;\n",
       "    fill: var(--fill-color);\n",
       "    height: 32px;\n",
       "    padding: 0;\n",
       "    width: 32px;\n",
       "  }\n",
       "\n",
       "  .colab-df-quickchart:hover {\n",
       "    background-color: var(--hover-bg-color);\n",
       "    box-shadow: 0 1px 2px rgba(60, 64, 67, 0.3), 0 1px 3px 1px rgba(60, 64, 67, 0.15);\n",
       "    fill: var(--button-hover-fill-color);\n",
       "  }\n",
       "\n",
       "  .colab-df-quickchart-complete:disabled,\n",
       "  .colab-df-quickchart-complete:disabled:hover {\n",
       "    background-color: var(--disabled-bg-color);\n",
       "    fill: var(--disabled-fill-color);\n",
       "    box-shadow: none;\n",
       "  }\n",
       "\n",
       "  .colab-df-spinner {\n",
       "    border: 2px solid var(--fill-color);\n",
       "    border-color: transparent;\n",
       "    border-bottom-color: var(--fill-color);\n",
       "    animation:\n",
       "      spin 1s steps(1) infinite;\n",
       "  }\n",
       "\n",
       "  @keyframes spin {\n",
       "    0% {\n",
       "      border-color: transparent;\n",
       "      border-bottom-color: var(--fill-color);\n",
       "      border-left-color: var(--fill-color);\n",
       "    }\n",
       "    20% {\n",
       "      border-color: transparent;\n",
       "      border-left-color: var(--fill-color);\n",
       "      border-top-color: var(--fill-color);\n",
       "    }\n",
       "    30% {\n",
       "      border-color: transparent;\n",
       "      border-left-color: var(--fill-color);\n",
       "      border-top-color: var(--fill-color);\n",
       "      border-right-color: var(--fill-color);\n",
       "    }\n",
       "    40% {\n",
       "      border-color: transparent;\n",
       "      border-right-color: var(--fill-color);\n",
       "      border-top-color: var(--fill-color);\n",
       "    }\n",
       "    60% {\n",
       "      border-color: transparent;\n",
       "      border-right-color: var(--fill-color);\n",
       "    }\n",
       "    80% {\n",
       "      border-color: transparent;\n",
       "      border-right-color: var(--fill-color);\n",
       "      border-bottom-color: var(--fill-color);\n",
       "    }\n",
       "    90% {\n",
       "      border-color: transparent;\n",
       "      border-bottom-color: var(--fill-color);\n",
       "    }\n",
       "  }\n",
       "</style>\n",
       "\n",
       "      <script>\n",
       "        async function quickchart(key) {\n",
       "          const quickchartButtonEl =\n",
       "            document.querySelector('#' + key + ' button');\n",
       "          quickchartButtonEl.disabled = true;  // To prevent multiple clicks.\n",
       "          quickchartButtonEl.classList.add('colab-df-spinner');\n",
       "          try {\n",
       "            const charts = await google.colab.kernel.invokeFunction(\n",
       "                'suggestCharts', [key], {});\n",
       "          } catch (error) {\n",
       "            console.error('Error during call to suggestCharts:', error);\n",
       "          }\n",
       "          quickchartButtonEl.classList.remove('colab-df-spinner');\n",
       "          quickchartButtonEl.classList.add('colab-df-quickchart-complete');\n",
       "        }\n",
       "        (() => {\n",
       "          let quickchartButtonEl =\n",
       "            document.querySelector('#df-b3a1e7ca-9cd9-40e5-93bc-51b5397a6038 button');\n",
       "          quickchartButtonEl.style.display =\n",
       "            google.colab.kernel.accessAllowed ? 'block' : 'none';\n",
       "        })();\n",
       "      </script>\n",
       "    </div>\n",
       "\n",
       "    </div>\n",
       "  </div>\n"
      ],
      "text/plain": [
       "                                                text  label\n",
       "0  I rented I AM CURIOUS-YELLOW from my video sto...      0\n",
       "1  \"I Am Curious: Yellow\" is a risible and preten...      0\n",
       "2  If only to avoid making this type of film in t...      0\n",
       "3  This film was probably inspired by Godard's Ma...      0\n",
       "4  Oh, brother...after hearing about this ridicul...      0"
      ]
     },
     "execution_count": 4,
     "metadata": {},
     "output_type": "execute_result"
    }
   ],
   "source": [
    "df_train = pd.DataFrame(train_data)\n",
    "df_train.head()"
   ]
  },
  {
   "cell_type": "code",
   "execution_count": null,
   "id": "fIPBFqFQvlyp",
   "metadata": {
    "colab": {
     "base_uri": "https://localhost:8080/"
    },
    "id": "fIPBFqFQvlyp",
    "outputId": "513d26a6-ab1a-46ba-ef36-e4c10a414df2"
   },
   "outputs": [
    {
     "name": "stdout",
     "output_type": "stream",
     "text": [
      "label\n",
      "0    12500\n",
      "1    12500\n",
      "Name: count, dtype: int64\n"
     ]
    }
   ],
   "source": [
    "print(df_train['label'].value_counts())\n"
   ]
  },
  {
   "cell_type": "code",
   "execution_count": null,
   "id": "jeqEVT2Ixw0A",
   "metadata": {
    "id": "jeqEVT2Ixw0A"
   },
   "outputs": [],
   "source": []
  },
  {
   "cell_type": "code",
   "execution_count": null,
   "id": "a19999ac",
   "metadata": {
    "id": "a19999ac"
   },
   "outputs": [],
   "source": []
  },
  {
   "cell_type": "code",
   "execution_count": null,
   "id": "7BRJsaUzzKBt",
   "metadata": {
    "colab": {
     "base_uri": "https://localhost:8080/"
    },
    "id": "7BRJsaUzzKBt",
    "outputId": "10a9540f-6f57-44e2-cf2c-a5e23fb96f99"
   },
   "outputs": [
    {
     "name": "stderr",
     "output_type": "stream",
     "text": [
      "[nltk_data] Downloading package punkt to /root/nltk_data...\n",
      "[nltk_data]   Unzipping tokenizers/punkt.zip.\n",
      "[nltk_data] Downloading package punkt_tab to /root/nltk_data...\n",
      "[nltk_data]   Unzipping tokenizers/punkt_tab.zip.\n",
      "100%|██████████| 25000/25000 [00:23<00:00, 1053.43it/s]\n",
      "100%|██████████| 25000/25000 [00:23<00:00, 1081.29it/s]"
     ]
    },
    {
     "name": "stdout",
     "output_type": "stream",
     "text": [
      "Data preprocessing complete! Example tokenized review: ['i', 'rented', 'i', 'am', 'curiousyellow', 'from', 'my', 'video', 'store', 'because', 'of', 'all', 'the', 'controversy', 'that']...\n",
      "Data preprocessing complete! Example tokenized label: 0...\n"
     ]
    },
    {
     "name": "stderr",
     "output_type": "stream",
     "text": [
      "\n"
     ]
    }
   ],
   "source": [
    "import nltk\n",
    "import os\n",
    "from nltk.tokenize import word_tokenize\n",
    "from tqdm import tqdm\n",
    "import re\n",
    "\n",
    "# Set NLTK data path explicitly (Colab-friendly)\n",
    "nltk_data_path = os.path.join('/root', 'nltk_data')\n",
    "if not os.path.exists(nltk_data_path):\n",
    "    os.makedirs(nltk_data_path)\n",
    "nltk.data.path.append(nltk_data_path)\n",
    "\n",
    "# Ensure punkt tokenizer is available\n",
    "try:\n",
    "    nltk.data.find('tokenizers/punkt/english.pickle')\n",
    "except LookupError:\n",
    "    nltk.download('punkt', download_dir=nltk_data_path)\n",
    "\n",
    "# Ensure punkt_tab resource is available (needed by word_tokenize's internal sent_tokenize)\n",
    "try:\n",
    "    nltk.data.find('tokenizers/punkt_tab/english/')\n",
    "except LookupError:\n",
    "    # The error suggests downloading 'punkt_tab', let's try that\n",
    "    nltk.download('punkt_tab', download_dir=nltk_data_path)\n",
    "\n",
    "\n",
    "def preprocess_text(text):\n",
    "    \"\"\"Clean and tokenize the text\"\"\"\n",
    "    # Convert to lowercase\n",
    "    text = text.lower()\n",
    "    # Remove HTML tags\n",
    "    text = re.sub(r'<.*?>', '', text)\n",
    "    # Remove special characters and digits\n",
    "    text = re.sub(r'[^a-zA-Z\\s]', '', text)\n",
    "    # Tokenize\n",
    "    tokens = word_tokenize(text)\n",
    "    return tokens\n",
    "\n",
    "# Process training data\n",
    "train_reviews = []\n",
    "train_labels = []\n",
    "\n",
    "for sample in tqdm(train_data):\n",
    "    # Labels are already integers (0=negative, 1=positive)\n",
    "    label_int = sample['label']\n",
    "    train_labels.append(label_int)\n",
    "    # Preprocess text\n",
    "    tokens = preprocess_text(sample['text'])\n",
    "    train_reviews.append(tokens)\n",
    "\n",
    "# Process test data\n",
    "test_reviews = []\n",
    "test_labels = []\n",
    "\n",
    "for sample in tqdm(test_data):\n",
    "    label_int = sample['label']\n",
    "    test_labels.append(label_int)\n",
    "    tokens = preprocess_text(sample['text'])\n",
    "    test_reviews.append(tokens)\n",
    "\n",
    "print(f\"Data preprocessing complete! Example tokenized review: {train_reviews[0][:15]}...\")\n",
    "print(f\"Data preprocessing complete! Example tokenized label: {train_labels[0]}...\")"
   ]
  },
  {
   "cell_type": "code",
   "execution_count": null,
   "id": "e766b8f1",
   "metadata": {
    "colab": {
     "base_uri": "https://localhost:8080/"
    },
    "id": "e766b8f1",
    "outputId": "f4a5bd21-cd3b-48bb-a77d-4e22633747be"
   },
   "outputs": [
    {
     "name": "stdout",
     "output_type": "stream",
     "text": [
      "Vocabulary created with 10000 words!\n",
      "Sample words: [('the', 2), ('and', 3), ('a', 4), ('of', 5), ('to', 6), ('is', 7), ('in', 8), ('it', 9), ('this', 10), ('i', 11)]\n"
     ]
    }
   ],
   "source": [
    "def build_vocab(reviews, max_words=10000):\n",
    "    \"\"\"Build a vocabulary of the most common words\"\"\"\n",
    "    word_count = Counter()\n",
    "\n",
    "    # Count all words\n",
    "    for review in reviews:\n",
    "        word_count.update(review)\n",
    "\n",
    "    # Select most common words\n",
    "    most_common = word_count.most_common(max_words - 2)  # -2 for <UNK> and <PAD>\n",
    "    vocab = {word: idx+2 for idx, (word, _) in enumerate(most_common)}\n",
    "\n",
    "    # Add special tokens\n",
    "    vocab['<PAD>'] = 0\n",
    "    vocab['<UNK>'] = 1\n",
    "\n",
    "    return vocab\n",
    "\n",
    "# Build vocabulary from training data\n",
    "vocab = build_vocab(train_reviews)\n",
    "vocab_size = len(vocab)\n",
    "\n",
    "print(f\"Vocabulary created with {vocab_size} words!\")\n",
    "print(f\"Sample words: {list(vocab.items())[:10]}\")\n",
    "\n",
    "# Create a reverse mapping for decoding\n",
    "idx_to_word = {idx: word for word, idx in vocab.items()}\n"
   ]
  },
  {
   "cell_type": "markdown",
   "id": "32fe5602",
   "metadata": {
    "id": "32fe5602"
   },
   "source": [
    "What should be the maximum length of my sequence aka review ??"
   ]
  },
  {
   "cell_type": "code",
   "execution_count": null,
   "id": "9da70e5b",
   "metadata": {
    "colab": {
     "base_uri": "https://localhost:8080/",
     "height": 703
    },
    "id": "9da70e5b",
    "outputId": "019bb0f9-09bb-44c4-9a0e-b7c0aca930cc"
   },
   "outputs": [
    {
     "name": "stdout",
     "output_type": "stream",
     "text": [
      "Maximum review length: 2441\n",
      "Mean review length: 227.81\n",
      "Median review length: 170.0\n",
      "95th percentile length: 583.0\n"
     ]
    },
    {
     "data": {
      "image/png": "[encoded data removed]",
      "text/plain": [
       "<Figure size 1000x600 with 1 Axes>"
      ]
     },
     "metadata": {},
     "output_type": "display_data"
    },
    {
     "name": "stdout",
     "output_type": "stream",
     "text": [
      "Chosen max_len: 583\n"
     ]
    },
    {
     "name": "stderr",
     "output_type": "stream",
     "text": [
      "100%|██████████| 25000/25000 [00:00<00:00, 28809.50it/s]\n",
      "100%|██████████| 25000/25000 [00:00<00:00, 25570.75it/s]\n"
     ]
    },
    {
     "name": "stdout",
     "output_type": "stream",
     "text": [
      "Data encoding complete! Example sequence: tensor([  11, 1511,   11,  237,    1,   36,   59,  390, 1132,   78,    5,   31,\n",
      "           2, 6947,   12])...\n",
      "All sequences are now of length 583\n",
      "Reviews truncated: 1245 (4.98%)\n"
     ]
    }
   ],
   "source": [
    "# Analyze review lengths to determine optimal max_len\n",
    "review_lengths = [len(review) for review in train_reviews]\n",
    "max_review_length = max(review_lengths)\n",
    "mean_length = np.mean(review_lengths)\n",
    "median_length = np.median(review_lengths)\n",
    "p95_length = np.percentile(review_lengths, 95)\n",
    "\n",
    "print(f\"Maximum review length: {max_review_length}\")\n",
    "print(f\"Mean review length: {mean_length:.2f}\")\n",
    "print(f\"Median review length: {median_length}\")\n",
    "print(f\"95th percentile length: {p95_length}\")\n",
    "\n",
    "# Plotting the distribution of review lengths\n",
    "plt.figure(figsize=(10, 6))\n",
    "plt.hist(review_lengths, bins=50)\n",
    "plt.axvline(x=max_review_length, color='r', linestyle='--', label=f'Max: {max_review_length}')\n",
    "plt.axvline(x=p95_length, color='g', linestyle='--', label=f'95th: {p95_length:.0f}')\n",
    "plt.axvline(x=median_length, color='b', linestyle='--', label=f'Median: {median_length}')\n",
    "plt.title(\"Distribution of Review Lengths\")\n",
    "plt.xlabel(\"Length (number of tokens)\")\n",
    "plt.ylabel(\"Count\")\n",
    "plt.legend()\n",
    "plt.grid(True, alpha=0.3)\n",
    "plt.show()\n",
    "\n",
    "# Choose max_len based on 95th percentile to avoid excessive padding\n",
    "# while still covering most reviews without truncation\n",
    "chosen_max_len = int(p95_length)\n",
    "print(f\"Chosen max_len: {chosen_max_len}\")\n",
    "\n",
    "def encode_review(review, vocab, max_len=None):\n",
    "    \"\"\"Convert a review to a fixed-length sequence of integers\"\"\"\n",
    "    # Use the chosen max_len from analysis if none provided\n",
    "    if max_len is None:\n",
    "        max_len = chosen_max_len\n",
    "\n",
    "    # Encode words, use <UNK> for unknown words\n",
    "    encoded = [vocab.get(word, vocab['<UNK>']) for word in review[:max_len]]\n",
    "\n",
    "    # Pad sequences to the same length\n",
    "    if len(encoded) < max_len:\n",
    "        encoded += [vocab['<PAD>']] * (max_len - len(encoded))\n",
    "\n",
    "    return encoded\n",
    "\n",
    "# Encode all reviews using the dynamically determined max_len\n",
    "train_encoded = [encode_review(review, vocab) for review in tqdm(train_reviews)]\n",
    "test_encoded = [encode_review(review, vocab) for review in tqdm(test_reviews)]\n",
    "\n",
    "# Convert to tensors\n",
    "train_sequences = torch.tensor(train_encoded, dtype=torch.long)\n",
    "train_labels_tensor = torch.tensor(train_labels, dtype=torch.float)\n",
    "test_sequences = torch.tensor(test_encoded, dtype=torch.long)\n",
    "test_labels_tensor = torch.tensor(test_labels, dtype=torch.float)\n",
    "\n",
    "print(f\"Data encoding complete! Example sequence: {train_sequences[0][:15]}...\")\n",
    "print(f\"All sequences are now of length {chosen_max_len}\")\n",
    "\n",
    "# Calculate how many reviews were truncated\n",
    "truncated_count = sum(1 for length in review_lengths if length > chosen_max_len)\n",
    "truncated_percentage = (truncated_count / len(review_lengths)) * 100\n",
    "print(f\"Reviews truncated: {truncated_count} ({truncated_percentage:.2f}%)\")\n"
   ]
  },
  {
   "cell_type": "code",
   "execution_count": null,
   "id": "0b3c6929",
   "metadata": {
    "colab": {
     "base_uri": "https://localhost:8080/"
    },
    "id": "0b3c6929",
    "outputId": "bcad8600-3572-4434-f545-ff3eb9ac9ebc"
   },
   "outputs": [
    {
     "name": "stderr",
     "output_type": "stream",
     "text": [
      "100%|██████████| 25000/25000 [00:00<00:00, 44856.66it/s]\n",
      "100%|██████████| 25000/25000 [00:01<00:00, 23708.68it/s]\n"
     ]
    },
    {
     "name": "stdout",
     "output_type": "stream",
     "text": [
      "Data encoding complete! Example sequence: tensor([  11, 1511,   11,  237,    1,   36,   59,  390, 1132,   78,    5,   31,\n",
      "           2, 6947,   12])...\n"
     ]
    }
   ],
   "source": [
    "def encode_review(review, vocab, max_len=200):\n",
    "    \"\"\"Convert a review to a fixed-length sequence of integers\"\"\"\n",
    "    # Encode words, use <UNK> for unknown words\n",
    "    encoded = [vocab.get(word, vocab['<UNK>']) for word in review[:max_len]]\n",
    "\n",
    "    # Pad sequences to the same length\n",
    "    if len(encoded) < max_len:\n",
    "        encoded += [vocab['<PAD>']] * (max_len - len(encoded))\n",
    "\n",
    "    return encoded\n",
    "\n",
    "# Encode all reviews\n",
    "train_encoded = [encode_review(review, vocab) for review in tqdm(train_reviews)]\n",
    "test_encoded = [encode_review(review, vocab) for review in tqdm(test_reviews)]\n",
    "\n",
    "# Convert to tensors\n",
    "train_sequences = torch.tensor(train_encoded, dtype=torch.long)\n",
    "train_labels_tensor = torch.tensor(train_labels, dtype=torch.float)\n",
    "test_sequences = torch.tensor(test_encoded, dtype=torch.long)\n",
    "test_labels_tensor = torch.tensor(test_labels, dtype=torch.float)\n",
    "\n",
    "print(f\"Data encoding complete! Example sequence: {train_sequences[0][:15]}...\")\n"
   ]
  },
  {
   "cell_type": "code",
   "execution_count": null,
   "id": "0T_5Ztev8ycH",
   "metadata": {
    "colab": {
     "base_uri": "https://localhost:8080/"
    },
    "id": "0T_5Ztev8ycH",
    "outputId": "697d9b5b-c6be-4824-b389-b9fd5614e895"
   },
   "outputs": [
    {
     "name": "stdout",
     "output_type": "stream",
     "text": [
      "tensor([  11, 1511,   11,  237,    1,   36,   59,  390, 1132,   78,    5,   31,\n",
      "           2, 6947,   12, 3237,    9,   52,    9,   13,   86,  614,    8,   11,\n",
      "          83,  535,   12,   30,   86,    9,   13,    1,   32,  170, 8923,   45,\n",
      "           9,  121,  760,    6, 2509,   10,  698, 1547,  106,    4,  328,    5,\n",
      "          93, 1125, 2965,   11,   63,   67,    6,   68,   10,   16,    1,  112,\n",
      "           7, 5763,  184,    4,  183, 3720,  466, 1450,  739, 4460,   35,  461,\n",
      "           6,  808,  281,   53,   57,   42,  118,    8,  805,   53,  461,    6,\n",
      "        1107,   39,    1,    6,  246,   46,  417,    5,  657,   20,   47,    2,\n",
      "         852,    1,  196,   42,  767,  970, 1279,  134,   14,    2, 2594,  330,\n",
      "           3, 1507, 1279,    8,    2, 2286, 1550,    8,  190, 2113, 6668,    3,\n",
      "        1860,    1,    5,    1,   42,   65, 4580,   20, 2340,   53,   43,  388,\n",
      "          15,   39,  466, 1695, 7700,    3,  989,    1, 1043,   69,   42,   11,\n",
      "         237,    1,    7,   12,  147,  584,   10,   13, 1125, 7944,   63,    2,\n",
      "         388,    3,  996,  135,   23,  163,    3,  233,  190,   54,   92,   29,\n",
      "          21,  317,   37,   46, 6369,   90, 4461,  136,   59,    1,  345,  158,\n",
      "           9, 1551,    8,  628,  388,    3,  996,   23,    4,  645, 9734,    8,\n",
      "        3720,  436,   54,    1, 4875, 4413,   65, 1441])\n",
      "200\n"
     ]
    }
   ],
   "source": [
    "print(train_sequences[0])\n",
    "print(len(train_sequences[0]))"
   ]
  },
  {
   "cell_type": "code",
   "execution_count": null,
   "id": "a1e8d0db",
   "metadata": {
    "colab": {
     "base_uri": "https://localhost:8080/"
    },
    "id": "a1e8d0db",
    "outputId": "28291406-398a-413a-f7ef-b52d9879e888"
   },
   "outputs": [
    {
     "name": "stdout",
     "output_type": "stream",
     "text": [
      "DataLoaders created! Training batches: 352\n"
     ]
    }
   ],
   "source": [
    "class IMDbDataset(Dataset):\n",
    "    def __init__(self, sequences, labels):\n",
    "        self.sequences = sequences\n",
    "        self.labels = labels\n",
    "\n",
    "    def __len__(self):\n",
    "        return len(self.sequences)\n",
    "\n",
    "    def __getitem__(self, idx):\n",
    "        return self.sequences[idx], self.labels[idx]\n",
    "\n",
    "# Create train/validation split\n",
    "train_seq, val_seq, train_labels, val_labels = train_test_split(\n",
    "    train_sequences, train_labels_tensor, test_size=0.1, random_state=42\n",
    ")\n",
    "\n",
    "# Create datasets\n",
    "train_dataset = IMDbDataset(train_seq, train_labels)\n",
    "val_dataset = IMDbDataset(val_seq, val_labels)\n",
    "test_dataset = IMDbDataset(test_sequences, test_labels_tensor)\n",
    "\n",
    "# Create dataloaders\n",
    "batch_size = 64\n",
    "train_loader = DataLoader(train_dataset, batch_size=batch_size, shuffle=True)\n",
    "val_loader = DataLoader(val_dataset, batch_size=batch_size)\n",
    "test_loader = DataLoader(test_dataset, batch_size=batch_size)\n",
    "\n",
    "print(f\"DataLoaders created! Training batches: {len(train_loader)}\")\n"
   ]
  },
  {
   "cell_type": "code",
   "execution_count": null,
   "id": "9bf1355b",
   "metadata": {
    "colab": {
     "base_uri": "https://localhost:8080/"
    },
    "id": "9bf1355b",
    "outputId": "acba754e-0a70-4d03-fdac-9ad0b14820ed"
   },
   "outputs": [
    {
     "name": "stdout",
     "output_type": "stream",
     "text": [
      "Model created and moved to cuda!\n",
      "SentimentLSTM(\n",
      "  (embedding): Embedding(10000, 100, padding_idx=0)\n",
      "  (lstm): LSTM(100, 256, num_layers=2, batch_first=True, dropout=0.5)\n",
      "  (dropout): Dropout(p=0.5, inplace=False)\n",
      "  (fc): Linear(in_features=256, out_features=1, bias=True)\n",
      ")\n"
     ]
    }
   ],
   "source": [
    "class SentimentLSTM(nn.Module):\n",
    "    def __init__(self, vocab_size, embedding_dim, hidden_dim, output_dim, n_layers=1, dropout=0.5):\n",
    "        super().__init__()\n",
    "\n",
    "        # Embedding layer\n",
    "        self.embedding = nn.Embedding(vocab_size, embedding_dim, padding_idx=0)\n",
    "\n",
    "        # LSTM layer\n",
    "        self.lstm = nn.LSTM(embedding_dim,\n",
    "                        hidden_dim,\n",
    "                        num_layers=n_layers,\n",
    "                        bidirectional=False,\n",
    "                        dropout=dropout if n_layers > 1 else 0,\n",
    "                        batch_first=True)\n",
    "\n",
    "        # Dropout layer\n",
    "        self.dropout = nn.Dropout(dropout)\n",
    "\n",
    "        # Fully connected layer\n",
    "        self.fc = nn.Linear(hidden_dim, output_dim)\n",
    "\n",
    "    def forward(self, text):\n",
    "        # text shape: [batch_size, seq_len]\n",
    "        # Embed the text\n",
    "        embedded = self.embedding(text)  # [batch_size, seq_len, embedding_dim]\n",
    "\n",
    "        # Pass through LSTM\n",
    "        lstm_out, (hidden, cell) = self.lstm(embedded)\n",
    "        # hidden shape: [n_layers, batch_size, hidden_dim]\n",
    "\n",
    "        # Use the final hidden state\n",
    "        hidden = self.dropout(hidden[-1, :, :])  # [batch_size, hidden_dim]\n",
    "\n",
    "        # Pass through linear layer\n",
    "        return self.fc(hidden)  # [batch_size, output_dim]\n",
    "\n",
    "# Initialize model\n",
    "embedding_dim = 100\n",
    "hidden_dim = 256\n",
    "output_dim = 1\n",
    "n_layers = 2\n",
    "\n",
    "model = SentimentLSTM(\n",
    "    vocab_size=vocab_size,\n",
    "    embedding_dim=embedding_dim,\n",
    "    hidden_dim=hidden_dim,\n",
    "    output_dim=output_dim,\n",
    "    n_layers=n_layers\n",
    ")\n",
    "\n",
    "# Move model to GPU if available\n",
    "device = torch.device('cuda' if torch.cuda.is_available() else 'cpu')\n",
    "model = model.to(device)\n",
    "print(f\"Model created and moved to {device}!\")\n",
    "print(model)"
   ]
  },
  {
   "cell_type": "code",
   "execution_count": null,
   "id": "f569f559",
   "metadata": {
    "colab": {
     "base_uri": "https://localhost:8080/"
    },
    "id": "f569f559",
    "outputId": "4b0447b4-079e-474d-f3a4-1e73def7f179"
   },
   "outputs": [
    {
     "name": "stdout",
     "output_type": "stream",
     "text": [
      "Loss function and optimizer defined!\n"
     ]
    }
   ],
   "source": [
    "# Binary Cross Entropy Loss\n",
    "criterion = nn.BCEWithLogitsLoss()\n",
    "\n",
    "# Adam optimizer\n",
    "optimizer = optim.Adam(model.parameters(), lr=0.001)\n",
    "\n",
    "print(\"Loss function and optimizer defined!\")"
   ]
  },
  {
   "cell_type": "code",
   "execution_count": null,
   "id": "fb9a7f8d",
   "metadata": {
    "id": "fb9a7f8d"
   },
   "outputs": [],
   "source": [
    "def train(model, iterator, optimizer, criterion):\n",
    "    \"\"\"Training function for one epoch\"\"\"\n",
    "    # Set model to training mode\n",
    "    model.train()\n",
    "\n",
    "    # Track loss\n",
    "    epoch_loss = 0\n",
    "    epoch_acc = 0\n",
    "\n",
    "    # Iterate over batches\n",
    "    for batch in tqdm(iterator, desc=\"Training\"):\n",
    "        # Get batch data\n",
    "        text, labels = batch\n",
    "        text, labels = text.to(device), labels.to(device)\n",
    "\n",
    "        # Zero gradients\n",
    "        optimizer.zero_grad()\n",
    "\n",
    "        # Forward pass\n",
    "        predictions = model(text).squeeze(1)\n",
    "\n",
    "        # Calculate loss\n",
    "        loss = criterion(predictions, labels)\n",
    "\n",
    "        # Calculate accuracy\n",
    "        predicted_classes = torch.round(torch.sigmoid(predictions))\n",
    "        correct = (predicted_classes == labels).float()\n",
    "        accuracy = correct.sum() / len(correct)\n",
    "\n",
    "        # Backward pass\n",
    "        loss.backward()\n",
    "\n",
    "        # Update parameters\n",
    "        optimizer.step()\n",
    "\n",
    "        # Update metrics\n",
    "        epoch_loss += loss.item()\n",
    "        epoch_acc += accuracy.item()\n",
    "\n",
    "    # Return average loss and accuracy\n",
    "    return epoch_loss / len(iterator), epoch_acc / len(iterator)\n"
   ]
  },
  {
   "cell_type": "code",
   "execution_count": null,
   "id": "dffd9f3d",
   "metadata": {
    "id": "dffd9f3d"
   },
   "outputs": [],
   "source": [
    "def evaluate(model, iterator, criterion):\n",
    "    \"\"\"Evaluation function\"\"\"\n",
    "    # Set model to evaluation mode\n",
    "    model.eval()\n",
    "\n",
    "    # Track loss\n",
    "    epoch_loss = 0\n",
    "    epoch_acc = 0\n",
    "\n",
    "    # No gradients needed for evaluation\n",
    "    with torch.no_grad():\n",
    "        # Iterate over batches\n",
    "        for batch in tqdm(iterator, desc=\"Evaluating\"):\n",
    "            # Get batch data\n",
    "            text, labels = batch\n",
    "            text, labels = text.to(device), labels.to(device)\n",
    "\n",
    "            # Forward pass\n",
    "            predictions = model(text).squeeze(1)\n",
    "\n",
    "            # Calculate loss\n",
    "            loss = criterion(predictions, labels)\n",
    "\n",
    "            # Calculate accuracy\n",
    "            predicted_classes = torch.round(torch.sigmoid(predictions))\n",
    "            correct = (predicted_classes == labels).float()\n",
    "            accuracy = correct.sum() / len(correct)\n",
    "\n",
    "            # Update metrics\n",
    "            epoch_loss += loss.item()\n",
    "            epoch_acc += accuracy.item()\n",
    "\n",
    "    # Return average loss and accuracy\n",
    "    return epoch_loss / len(iterator), epoch_acc / len(iterator)\n"
   ]
  },
  {
   "cell_type": "code",
   "execution_count": null,
   "id": "29851811",
   "metadata": {
    "colab": {
     "base_uri": "https://localhost:8080/"
    },
    "id": "29851811",
    "outputId": "511925be-f9b5-4c04-dd79-9cad9af0e0e9"
   },
   "outputs": [
    {
     "name": "stdout",
     "output_type": "stream",
     "text": [
      "\n",
      "Epoch 1/2\n",
      "--------------------\n"
     ]
    },
    {
     "name": "stderr",
     "output_type": "stream",
     "text": [
      "Training: 100%|██████████| 352/352 [00:11<00:00, 29.64it/s]\n",
      "Evaluating: 100%|██████████| 40/40 [00:00<00:00, 83.26it/s]\n"
     ]
    },
    {
     "name": "stdout",
     "output_type": "stream",
     "text": [
      "Train Loss: 0.6933 | Train Acc: 50.82%\n",
      "Val Loss: 0.6944 | Val Acc: 48.79%\n",
      "\n",
      "Epoch 2/2\n",
      "--------------------\n"
     ]
    },
    {
     "name": "stderr",
     "output_type": "stream",
     "text": [
      "Training: 100%|██████████| 352/352 [00:11<00:00, 31.86it/s]\n",
      "Evaluating: 100%|██████████| 40/40 [00:00<00:00, 83.23it/s]"
     ]
    },
    {
     "name": "stdout",
     "output_type": "stream",
     "text": [
      "Train Loss: 0.6930 | Train Acc: 51.51%\n",
      "Val Loss: 0.6807 | Val Acc: 58.32%\n",
      "\n",
      "Training complete!\n"
     ]
    },
    {
     "name": "stderr",
     "output_type": "stream",
     "text": [
      "\n"
     ]
    }
   ],
   "source": [
    "n_epochs = 2\n",
    "\n",
    "# Lists to store metrics\n",
    "train_losses = []\n",
    "train_accs = []\n",
    "val_losses = []\n",
    "val_accs = []\n",
    "\n",
    "# Training loop\n",
    "for epoch in range(n_epochs):\n",
    "    print(f\"\\nEpoch {epoch+1}/{n_epochs}\")\n",
    "    print(\"-\" * 20)\n",
    "\n",
    "    # Train\n",
    "    train_loss, train_acc = train(model, train_loader, optimizer, criterion)\n",
    "    train_losses.append(train_loss)\n",
    "    train_accs.append(train_acc)\n",
    "\n",
    "    # Evaluate\n",
    "    val_loss, val_acc = evaluate(model, val_loader, criterion)\n",
    "    val_losses.append(val_loss)\n",
    "    val_accs.append(val_acc)\n",
    "\n",
    "    # Print metrics\n",
    "    print(f\"Train Loss: {train_loss:.4f} | Train Acc: {train_acc*100:.2f}%\")\n",
    "    print(f\"Val Loss: {val_loss:.4f} | Val Acc: {val_acc*100:.2f}%\")\n",
    "\n",
    "print(\"\\nTraining complete!\")"
   ]
  },
  {
   "cell_type": "code",
   "execution_count": null,
   "id": "2ce6f786",
   "metadata": {
    "colab": {
     "base_uri": "https://localhost:8080/",
     "height": 318
    },
    "id": "2ce6f786",
    "outputId": "fa4b55ce-b99a-40af-dcec-01d7584a517f"
   },
   "outputs": [
    {
     "data": {
      "image/png": "[encoded data removed]",
      "text/plain": [
       "<Figure size 1200x500 with 2 Axes>"
      ]
     },
     "metadata": {},
     "output_type": "display_data"
    }
   ],
   "source": [
    "plt.figure(figsize=(12, 5))\n",
    "\n",
    "# Plot loss\n",
    "plt.subplot(1, 2, 1)\n",
    "plt.plot(train_losses, label='Train Loss')\n",
    "plt.plot(val_losses, label='Val Loss')\n",
    "plt.xlabel('Epoch')\n",
    "plt.ylabel('Loss')\n",
    "plt.title('Training and Validation Loss')\n",
    "plt.legend()\n",
    "\n",
    "# Plot accuracy\n",
    "plt.subplot(1, 2, 2)\n",
    "plt.plot(train_accs, label='Train Acc')\n",
    "plt.plot(val_accs, label='Val Acc')\n",
    "plt.xlabel('Epoch')\n",
    "plt.ylabel('Accuracy')\n",
    "plt.title('Training and Validation Accuracy')\n",
    "plt.legend()\n",
    "\n",
    "plt.tight_layout()\n",
    "plt.show()\n"
   ]
  },
  {
   "cell_type": "code",
   "execution_count": null,
   "id": "303abcdb",
   "metadata": {
    "colab": {
     "base_uri": "https://localhost:8080/"
    },
    "id": "303abcdb",
    "outputId": "e61fc0ff-c6cb-4394-e699-105c9a111863"
   },
   "outputs": [
    {
     "name": "stderr",
     "output_type": "stream",
     "text": [
      "Evaluating: 100%|██████████| 391/391 [00:05<00:00, 73.09it/s]"
     ]
    },
    {
     "name": "stdout",
     "output_type": "stream",
     "text": [
      "Test Loss: 0.6844 | Test Acc: 56.84%\n"
     ]
    },
    {
     "name": "stderr",
     "output_type": "stream",
     "text": [
      "\n"
     ]
    }
   ],
   "source": [
    "test_loss, test_acc = evaluate(model, test_loader, criterion)\n",
    "print(f\"Test Loss: {test_loss:.4f} | Test Acc: {test_acc*100:.2f}%\")\n"
   ]
  },
  {
   "cell_type": "code",
   "execution_count": null,
   "id": "16edbcdd",
   "metadata": {
    "colab": {
     "base_uri": "https://localhost:8080/"
    },
    "id": "16edbcdd",
    "outputId": "2d9c1c9d-35e6-4a0d-c0bc-b38776e2308d"
   },
   "outputs": [
    {
     "name": "stdout",
     "output_type": "stream",
     "text": [
      "Model predictions on sample reviews:\n",
      "Review: This movie was absolutely amazing! The acting was ...\n",
      "Sentiment: Positive (probability: 0.5487)\n",
      "--------------------------------------------------\n",
      "Review: I was thoroughly disappointed with this film. The ...\n",
      "Sentiment: Positive (probability: 0.5487)\n",
      "--------------------------------------------------\n",
      "Review: It was okay. Nothing special but not terrible eith...\n",
      "Sentiment: Positive (probability: 0.5487)\n",
      "--------------------------------------------------\n",
      "Review: Despite some flaws in the plot, the movie had grea...\n",
      "Sentiment: Negative (probability: 0.4395)\n",
      "--------------------------------------------------\n"
     ]
    }
   ],
   "source": [
    "def predict_sentiment(model, text, vocab, max_len=200):\n",
    "    \"\"\"Predict sentiment for a single text input\"\"\"\n",
    "    # Preprocess\n",
    "    tokens = preprocess_text(text)\n",
    "    # Encode\n",
    "    encoded = encode_review(tokens, vocab, max_len)\n",
    "    # Convert to tensor\n",
    "    tensor = torch.tensor(encoded).unsqueeze(0).to(device)  # Add batch dimension\n",
    "\n",
    "    # Set model to evaluation mode\n",
    "    model.eval()\n",
    "\n",
    "    # Get prediction\n",
    "    with torch.no_grad():\n",
    "        prediction = torch.sigmoid(model(tensor).squeeze(1))\n",
    "\n",
    "    # Return probability and sentiment\n",
    "    probability = prediction.item()\n",
    "    sentiment = \"Positive\" if probability >= 0.5 else \"Negative\"\n",
    "\n",
    "    return probability, sentiment\n",
    "\n",
    "# Test on some examples\n",
    "sample_reviews = [\n",
    "    \"This movie was absolutely amazing! The acting was superb and the plot was engaging.\",\n",
    "    \"I was thoroughly disappointed with this film. The story made no sense and the acting was terrible.\",\n",
    "    \"It was okay. Nothing special but not terrible either.\",\n",
    "    \"Despite some flaws in the plot, the movie had great visual effects and good performances.\"\n",
    "]\n",
    "\n",
    "print(\"Model predictions on sample reviews:\")\n",
    "for review in sample_reviews:\n",
    "    prob, sent = predict_sentiment(model, review, vocab)\n",
    "    print(f\"Review: {review[:50]}...\")\n",
    "    print(f\"Sentiment: {sent} (probability: {prob:.4f})\")\n",
    "    print(\"-\" * 50)\n"
   ]
  },
  {
   "cell_type": "markdown",
   "id": "ZXyPLRGbFa_Y",
   "metadata": {
    "id": "ZXyPLRGbFa_Y"
   },
   "source": [
    "#2. Bidirectional  "
   ]
  },
  {
   "cell_type": "code",
   "execution_count": null,
   "id": "HZ79f-McFwrp",
   "metadata": {
    "id": "HZ79f-McFwrp"
   },
   "outputs": [],
   "source": []
  },
  {
   "cell_type": "code",
   "execution_count": null,
   "id": "4C6n3gsSFxTJ",
   "metadata": {
    "colab": {
     "base_uri": "https://localhost:8080/"
    },
    "id": "4C6n3gsSFxTJ",
    "outputId": "cd0e29e2-c348-4e77-dce8-8fb7620c31ea"
   },
   "outputs": [
    {
     "name": "stdout",
     "output_type": "stream",
     "text": [
      "Model created and moved to cuda!\n",
      "SentimentLSTM(\n",
      "  (embedding): Embedding(10000, 100, padding_idx=0)\n",
      "  (lstm): LSTM(100, 256, num_layers=2, batch_first=True, dropout=0.5)\n",
      "  (dropout): Dropout(p=0.5, inplace=False)\n",
      "  (fc): Linear(in_features=256, out_features=1, bias=True)\n",
      ")\n"
     ]
    }
   ],
   "source": [
    "class SentimentLSTM_BI(nn.Module):\n",
    "    def __init__(self, vocab_size, embedding_dim, hidden_dim, output_dim, n_layers=1, dropout=0.5):\n",
    "        super().__init__()\n",
    "\n",
    "        # Embedding layer\n",
    "        self.embedding = nn.Embedding(vocab_size, embedding_dim, padding_idx=0)\n",
    "\n",
    "        # LSTM layer\n",
    "        self.lstm = nn.LSTM(embedding_dim,\n",
    "                        hidden_dim,\n",
    "                        num_layers=n_layers,\n",
    "                        bidirectional=True,\n",
    "                        dropout=dropout if n_layers > 1 else 0,\n",
    "                        batch_first=True)\n",
    "\n",
    "        # Dropout layer\n",
    "        self.dropout = nn.Dropout(dropout)\n",
    "\n",
    "        # Fully connected layer\n",
    "        self.fc = nn.Linear(hidden_dim * 2, output_dim)\n",
    "\n",
    "    def forward(self, text):\n",
    "        # text shape: [batch_size, seq_len]\n",
    "        # Embed the text\n",
    "        embedded = self.embedding(text)  # [batch_size, seq_len, embedding_dim]\n",
    "\n",
    "        # Pass through LSTM\n",
    "        lstm_out, (hidden, cell) = self.lstm(embedded)\n",
    "        # hidden shape: [n_layers, batch_size, hidden_dim]\n",
    "\n",
    "        # Use the final hidden state\n",
    "        hidden = torch.cat((hidden[-2,:,:], hidden[-1,:,:]), dim=1)\n",
    "        hidden = self.dropout(hidden)\n",
    "\n",
    "        # Pass through linear layer\n",
    "        return self.fc(hidden)  # [batch_size, output_dim]\n",
    "\n",
    "# Initialize model\n",
    "embedding_dim = 100\n",
    "hidden_dim = 256\n",
    "output_dim = 1\n",
    "n_layers = 2\n",
    "\n",
    "model = SentimentLSTM(\n",
    "    vocab_size=vocab_size,\n",
    "    embedding_dim=embedding_dim,\n",
    "    hidden_dim=hidden_dim,\n",
    "    output_dim=output_dim,\n",
    "    n_layers=n_layers\n",
    ")\n",
    "\n",
    "# Move model to GPU if available\n",
    "device = torch.device('cuda' if torch.cuda.is_available() else 'cpu')\n",
    "model = model.to(device)\n",
    "print(f\"Model created and moved to {device}!\")\n",
    "print(model)"
   ]
  },
  {
   "cell_type": "code",
   "execution_count": null,
   "id": "2mGZCdyAHAe4",
   "metadata": {
    "colab": {
     "base_uri": "https://localhost:8080/"
    },
    "id": "2mGZCdyAHAe4",
    "outputId": "dc08378f-7ace-4fad-fee5-a619c6b2bfc5"
   },
   "outputs": [
    {
     "name": "stdout",
     "output_type": "stream",
     "text": [
      "Loss function and optimizer defined!\n"
     ]
    }
   ],
   "source": [
    "# Binary Cross Entropy Loss\n",
    "criterion = nn.BCEWithLogitsLoss()\n",
    "\n",
    "# Adam optimizer\n",
    "optimizer = optim.Adam(model.parameters(), lr=0.001)\n",
    "\n",
    "print(\"Loss function and optimizer defined!\")"
   ]
  },
  {
   "cell_type": "code",
   "execution_count": null,
   "id": "p5wJqYu0G18C",
   "metadata": {
    "colab": {
     "base_uri": "https://localhost:8080/"
    },
    "id": "p5wJqYu0G18C",
    "outputId": "c7c4bcfc-16a8-4d0c-8286-77d3bb026a3d"
   },
   "outputs": [
    {
     "name": "stdout",
     "output_type": "stream",
     "text": [
      "\n",
      "Epoch 1/2\n",
      "--------------------\n"
     ]
    },
    {
     "name": "stderr",
     "output_type": "stream",
     "text": [
      "Training: 100%|██████████| 352/352 [00:11<00:00, 31.35it/s]\n",
      "Evaluating: 100%|██████████| 40/40 [00:00<00:00, 81.44it/s]\n"
     ]
    },
    {
     "name": "stdout",
     "output_type": "stream",
     "text": [
      "Train Loss: 0.6924 | Train Acc: 50.99%\n",
      "Val Loss: 0.6905 | Val Acc: 52.85%\n",
      "\n",
      "Epoch 2/2\n",
      "--------------------\n"
     ]
    },
    {
     "name": "stderr",
     "output_type": "stream",
     "text": [
      "Training: 100%|██████████| 352/352 [00:11<00:00, 31.25it/s]\n",
      "Evaluating: 100%|██████████| 40/40 [00:00<00:00, 82.02it/s]"
     ]
    },
    {
     "name": "stdout",
     "output_type": "stream",
     "text": [
      "Train Loss: 0.6903 | Train Acc: 53.23%\n",
      "Val Loss: 0.6925 | Val Acc: 51.41%\n",
      "\n",
      "Training complete!\n"
     ]
    },
    {
     "name": "stderr",
     "output_type": "stream",
     "text": [
      "\n"
     ]
    }
   ],
   "source": [
    "n_epochs = 2\n",
    "\n",
    "# Lists to store metrics\n",
    "train_losses = []\n",
    "train_accs = []\n",
    "val_losses = []\n",
    "val_accs = []\n",
    "\n",
    "# Training loop\n",
    "for epoch in range(n_epochs):\n",
    "    print(f\"\\nEpoch {epoch+1}/{n_epochs}\")\n",
    "    print(\"-\" * 20)\n",
    "\n",
    "    # Train\n",
    "    train_loss, train_acc = train(model, train_loader, optimizer, criterion)\n",
    "    train_losses.append(train_loss)\n",
    "    train_accs.append(train_acc)\n",
    "\n",
    "    # Evaluate\n",
    "    val_loss, val_acc = evaluate(model, val_loader, criterion)\n",
    "    val_losses.append(val_loss)\n",
    "    val_accs.append(val_acc)\n",
    "\n",
    "    # Print metrics\n",
    "    print(f\"Train Loss: {train_loss:.4f} | Train Acc: {train_acc*100:.2f}%\")\n",
    "    print(f\"Val Loss: {val_loss:.4f} | Val Acc: {val_acc*100:.2f}%\")\n",
    "\n",
    "print(\"\\nTraining complete!\")"
   ]
  },
  {
   "cell_type": "code",
   "execution_count": null,
   "id": "VbTIF_byFwt7",
   "metadata": {
    "colab": {
     "base_uri": "https://localhost:8080/",
     "height": 318
    },
    "id": "VbTIF_byFwt7",
    "outputId": "59c50e2f-d1c5-4570-aee2-206ed4724105"
   },
   "outputs": [
    {
     "data": {
      "image/png": "[encoded data removed]",
      "text/plain": [
       "<Figure size 1200x500 with 2 Axes>"
      ]
     },
     "metadata": {},
     "output_type": "display_data"
    }
   ],
   "source": [
    "plt.figure(figsize=(12, 5))\n",
    "\n",
    "# Plot loss\n",
    "plt.subplot(1, 2, 1)\n",
    "plt.plot(train_losses, label='Train Loss')\n",
    "plt.plot(val_losses, label='Val Loss')\n",
    "plt.xlabel('Epoch')\n",
    "plt.ylabel('Loss')\n",
    "plt.title('Training and Validation Loss')\n",
    "plt.legend()\n",
    "\n",
    "# Plot accuracy\n",
    "plt.subplot(1, 2, 2)\n",
    "plt.plot(train_accs, label='Train Acc')\n",
    "plt.plot(val_accs, label='Val Acc')\n",
    "plt.xlabel('Epoch')\n",
    "plt.ylabel('Accuracy')\n",
    "plt.title('Training and Validation Accuracy')\n",
    "plt.legend()\n",
    "\n",
    "plt.tight_layout()\n",
    "plt.show()\n"
   ]
  },
  {
   "cell_type": "code",
   "execution_count": null,
   "id": "3IwjC9ivFwwa",
   "metadata": {
    "colab": {
     "base_uri": "https://localhost:8080/"
    },
    "id": "3IwjC9ivFwwa",
    "outputId": "31ecb2a9-dceb-4a17-fabe-56eb978bbfdb"
   },
   "outputs": [
    {
     "name": "stderr",
     "output_type": "stream",
     "text": [
      "Evaluating: 100%|██████████| 391/391 [00:04<00:00, 79.62it/s]"
     ]
    },
    {
     "name": "stdout",
     "output_type": "stream",
     "text": [
      "Test Loss: 0.6931 | Test Acc: 50.16%\n"
     ]
    },
    {
     "name": "stderr",
     "output_type": "stream",
     "text": [
      "\n"
     ]
    }
   ],
   "source": [
    "test_loss, test_acc = evaluate(model, test_loader, criterion)\n",
    "print(f\"Test Loss: {test_loss:.4f} | Test Acc: {test_acc*100:.2f}%\")\n"
   ]
  },
  {
   "cell_type": "code",
   "execution_count": null,
   "id": "xssbkL6cFwyL",
   "metadata": {
    "colab": {
     "base_uri": "https://localhost:8080/"
    },
    "id": "xssbkL6cFwyL",
    "outputId": "5b60d6ce-3292-4227-dd99-0bd5d8aa6bb6"
   },
   "outputs": [
    {
     "name": "stdout",
     "output_type": "stream",
     "text": [
      "Model predictions on sample reviews:\n",
      "Review: This movie was absolutely amazing! The acting was ...\n",
      "Sentiment: Negative (probability: 0.4917)\n",
      "--------------------------------------------------\n",
      "Review: I was thoroughly disappointed with this film. The ...\n",
      "Sentiment: Negative (probability: 0.4917)\n",
      "--------------------------------------------------\n",
      "Review: It was okay. Nothing special but not terrible eith...\n",
      "Sentiment: Positive (probability: 0.5646)\n",
      "--------------------------------------------------\n",
      "Review: Despite some flaws in the plot, the movie had grea...\n",
      "Sentiment: Negative (probability: 0.4917)\n",
      "--------------------------------------------------\n"
     ]
    }
   ],
   "source": [
    "def predict_sentiment(model, text, vocab, max_len=200):\n",
    "    \"\"\"Predict sentiment for a single text input\"\"\"\n",
    "    # Preprocess\n",
    "    tokens = preprocess_text(text)\n",
    "    # Encode\n",
    "    encoded = encode_review(tokens, vocab, max_len)\n",
    "    # Convert to tensor\n",
    "    tensor = torch.tensor(encoded).unsqueeze(0).to(device)  # Add batch dimension\n",
    "\n",
    "    # Set model to evaluation mode\n",
    "    model.eval()\n",
    "\n",
    "    # Get prediction\n",
    "    with torch.no_grad():\n",
    "        prediction = torch.sigmoid(model(tensor).squeeze(1))\n",
    "\n",
    "    # Return probability and sentiment\n",
    "    probability = prediction.item()\n",
    "    sentiment = \"Positive\" if probability >= 0.5 else \"Negative\"\n",
    "\n",
    "    return probability, sentiment\n",
    "\n",
    "# Test on some examples\n",
    "sample_reviews = [\n",
    "    \"This movie was absolutely amazing! The acting was superb and the plot was engaging.\",\n",
    "    \"I was thoroughly disappointed with this film. The story made no sense and the acting was terrible.\",\n",
    "    \"It was okay. Nothing special but not terrible either.\",\n",
    "    \"Despite some flaws in the plot, the movie had great visual effects and good performances.\"\n",
    "]\n",
    "\n",
    "print(\"Model predictions on sample reviews:\")\n",
    "for review in sample_reviews:\n",
    "    prob, sent = predict_sentiment(model, review, vocab)\n",
    "    print(f\"Review: {review[:50]}...\")\n",
    "    print(f\"Sentiment: {sent} (probability: {prob:.4f})\")\n",
    "    print(\"-\" * 50)\n"
   ]
  },
  {
   "cell_type": "markdown",
   "id": "_p3ZpHtqHvgR",
   "metadata": {
    "id": "_p3ZpHtqHvgR"
   },
   "source": [
    "# 3. 3 Layer Try"
   ]
  },
  {
   "cell_type": "code",
   "execution_count": null,
   "id": "uVgZXhISFw1F",
   "metadata": {
    "colab": {
     "base_uri": "https://localhost:8080/"
    },
    "id": "uVgZXhISFw1F",
    "outputId": "f6e599fd-df2f-45e9-f08b-e2873056f674"
   },
   "outputs": [
    {
     "name": "stdout",
     "output_type": "stream",
     "text": [
      "Model created and moved to cuda!\n",
      "SentimentLSTM(\n",
      "  (embedding): Embedding(10000, 100, padding_idx=0)\n",
      "  (lstm): LSTM(100, 256, num_layers=2, batch_first=True, dropout=0.5)\n",
      "  (dropout): Dropout(p=0.5, inplace=False)\n",
      "  (fc): Linear(in_features=256, out_features=1, bias=True)\n",
      ")\n"
     ]
    }
   ],
   "source": [
    "class SentimentLSTM_BI_3(nn.Module):\n",
    "    def __init__(self, vocab_size, embedding_dim, hidden_dim, output_dim, n_layers=3, dropout=0.5):\n",
    "        super().__init__()\n",
    "\n",
    "        # Embedding layer\n",
    "        self.embedding = nn.Embedding(vocab_size, embedding_dim, padding_idx=0)\n",
    "\n",
    "        # LSTM layer\n",
    "        self.lstm = nn.LSTM(embedding_dim,\n",
    "                        hidden_dim,\n",
    "                        num_layers=n_layers,\n",
    "                        bidirectional=True,\n",
    "                        dropout=dropout if n_layers > 1 else 0,\n",
    "                        batch_first=True)\n",
    "\n",
    "        # Dropout layer\n",
    "        self.dropout = nn.Dropout(dropout)\n",
    "\n",
    "        # Fully connected layer\n",
    "        self.fc = nn.Linear(hidden_dim * 2, output_dim)\n",
    "\n",
    "    def forward(self, text):\n",
    "        # text shape: [batch_size, seq_len]\n",
    "        # Embed the text\n",
    "        embedded = self.embedding(text)  # [batch_size, seq_len, embedding_dim]\n",
    "\n",
    "        # Pass through LSTM\n",
    "        lstm_out, (hidden, cell) = self.lstm(embedded)\n",
    "        # hidden shape: [n_layers, batch_size, hidden_dim]\n",
    "\n",
    "        # Use the final hidden state\n",
    "        hidden = torch.cat((hidden[-2,:,:], hidden[-1,:,:]), dim=1)\n",
    "        hidden = self.dropout(hidden)\n",
    "\n",
    "        # Pass through linear layer\n",
    "        return self.fc(hidden)  # [batch_size, output_dim]\n",
    "\n",
    "# Initialize model\n",
    "embedding_dim = 100\n",
    "hidden_dim = 256\n",
    "output_dim = 1\n",
    "n_layers = 2\n",
    "\n",
    "model = SentimentLSTM(\n",
    "    vocab_size=vocab_size,\n",
    "    embedding_dim=embedding_dim,\n",
    "    hidden_dim=hidden_dim,\n",
    "    output_dim=output_dim,\n",
    "    n_layers=n_layers\n",
    ")\n",
    "\n",
    "# Move model to GPU if available\n",
    "device = torch.device('cuda' if torch.cuda.is_available() else 'cpu')\n",
    "model = model.to(device)\n",
    "print(f\"Model created and moved to {device}!\")\n",
    "print(model)"
   ]
  },
  {
   "cell_type": "code",
   "execution_count": null,
   "id": "ridLw4DYH8if",
   "metadata": {
    "colab": {
     "base_uri": "https://localhost:8080/"
    },
    "id": "ridLw4DYH8if",
    "outputId": "f85b37f6-c6d3-41b5-8d51-830aa658b90a"
   },
   "outputs": [
    {
     "name": "stdout",
     "output_type": "stream",
     "text": [
      "Loss function and optimizer defined!\n"
     ]
    }
   ],
   "source": [
    "# Binary Cross Entropy Loss\n",
    "criterion = nn.BCEWithLogitsLoss()\n",
    "\n",
    "# Adam optimizer\n",
    "optimizer = optim.Adam(model.parameters(), lr=0.001)\n",
    "\n",
    "print(\"Loss function and optimizer defined!\")"
   ]
  },
  {
   "cell_type": "code",
   "execution_count": null,
   "id": "IX_6A3wXH8lZ",
   "metadata": {
    "colab": {
     "base_uri": "https://localhost:8080/"
    },
    "id": "IX_6A3wXH8lZ",
    "outputId": "3039029b-a1f0-41d4-d61f-68d5a76bf2c7"
   },
   "outputs": [
    {
     "name": "stdout",
     "output_type": "stream",
     "text": [
      "\n",
      "Epoch 1/2\n",
      "--------------------\n"
     ]
    },
    {
     "name": "stderr",
     "output_type": "stream",
     "text": [
      "Training: 100%|██████████| 352/352 [00:11<00:00, 31.47it/s]\n",
      "Evaluating: 100%|██████████| 40/40 [00:00<00:00, 82.95it/s]\n"
     ]
    },
    {
     "name": "stdout",
     "output_type": "stream",
     "text": [
      "Train Loss: 0.6922 | Train Acc: 51.66%\n",
      "Val Loss: 0.6904 | Val Acc: 52.58%\n",
      "\n",
      "Epoch 2/2\n",
      "--------------------\n"
     ]
    },
    {
     "name": "stderr",
     "output_type": "stream",
     "text": [
      "Training: 100%|██████████| 352/352 [00:11<00:00, 31.32it/s]\n",
      "Evaluating: 100%|██████████| 40/40 [00:00<00:00, 80.97it/s]"
     ]
    },
    {
     "name": "stdout",
     "output_type": "stream",
     "text": [
      "Train Loss: 0.6802 | Train Acc: 56.38%\n",
      "Val Loss: 0.6543 | Val Acc: 63.91%\n",
      "\n",
      "Training complete!\n"
     ]
    },
    {
     "name": "stderr",
     "output_type": "stream",
     "text": [
      "\n"
     ]
    }
   ],
   "source": [
    "n_epochs = 2\n",
    "\n",
    "# Lists to store metrics\n",
    "train_losses = []\n",
    "train_accs = []\n",
    "val_losses = []\n",
    "val_accs = []\n",
    "\n",
    "# Training loop\n",
    "for epoch in range(n_epochs):\n",
    "    print(f\"\\nEpoch {epoch+1}/{n_epochs}\")\n",
    "    print(\"-\" * 20)\n",
    "\n",
    "    # Train\n",
    "    train_loss, train_acc = train(model, train_loader, optimizer, criterion)\n",
    "    train_losses.append(train_loss)\n",
    "    train_accs.append(train_acc)\n",
    "\n",
    "    # Evaluate\n",
    "    val_loss, val_acc = evaluate(model, val_loader, criterion)\n",
    "    val_losses.append(val_loss)\n",
    "    val_accs.append(val_acc)\n",
    "\n",
    "    # Print metrics\n",
    "    print(f\"Train Loss: {train_loss:.4f} | Train Acc: {train_acc*100:.2f}%\")\n",
    "    print(f\"Val Loss: {val_loss:.4f} | Val Acc: {val_acc*100:.2f}%\")\n",
    "\n",
    "print(\"\\nTraining complete!\")"
   ]
  },
  {
   "cell_type": "code",
   "execution_count": null,
   "id": "-XOxP358H8n6",
   "metadata": {
    "colab": {
     "base_uri": "https://localhost:8080/",
     "height": 527
    },
    "id": "-XOxP358H8n6",
    "outputId": "cc478d82-0db9-4d1d-c068-1c82bcff49c7"
   },
   "outputs": [
    {
     "data": {
      "image/png": "[encoded data removed]",
      "text/plain": [
       "<Figure size 1200x500 with 2 Axes>"
      ]
     },
     "metadata": {},
     "output_type": "display_data"
    }
   ],
   "source": [
    "plt.figure(figsize=(12, 5))\n",
    "\n",
    "# Plot loss\n",
    "plt.subplot(1, 2, 1)\n",
    "plt.plot(train_losses, label='Train Loss')\n",
    "plt.plot(val_losses, label='Val Loss')\n",
    "plt.xlabel('Epoch')\n",
    "plt.ylabel('Loss')\n",
    "plt.title('Training and Validation Loss')\n",
    "plt.legend()\n",
    "\n",
    "# Plot accuracy\n",
    "plt.subplot(1, 2, 2)\n",
    "plt.plot(train_accs, label='Train Acc')\n",
    "plt.plot(val_accs, label='Val Acc')\n",
    "plt.xlabel('Epoch')\n",
    "plt.ylabel('Accuracy')\n",
    "plt.title('Training and Validation Accuracy')\n",
    "plt.legend()\n",
    "\n",
    "plt.tight_layout()\n",
    "plt.show()\n"
   ]
  },
  {
   "cell_type": "code",
   "execution_count": null,
   "id": "JPOJ0J68Jka6",
   "metadata": {
    "colab": {
     "base_uri": "https://localhost:8080/"
    },
    "id": "JPOJ0J68Jka6",
    "outputId": "6cfc74fc-aa79-483d-811d-d443ca745ab9"
   },
   "outputs": [
    {
     "name": "stderr",
     "output_type": "stream",
     "text": [
      "Evaluating: 100%|██████████| 391/391 [00:07<00:00, 55.19it/s]"
     ]
    },
    {
     "name": "stdout",
     "output_type": "stream",
     "text": [
      "Test Loss: 0.6544 | Test Acc: 63.17%\n"
     ]
    },
    {
     "name": "stderr",
     "output_type": "stream",
     "text": [
      "\n"
     ]
    }
   ],
   "source": [
    "test_loss, test_acc = evaluate(model, test_loader, criterion)\n",
    "print(f\"Test Loss: {test_loss:.4f} | Test Acc: {test_acc*100:.2f}%\")"
   ]
  },
  {
   "cell_type": "code",
   "execution_count": null,
   "id": "uFYLLcR6H8qS",
   "metadata": {
    "colab": {
     "base_uri": "https://localhost:8080/"
    },
    "id": "uFYLLcR6H8qS",
    "outputId": "ebf04f95-3d24-4f1b-bc04-90a4311cbb68"
   },
   "outputs": [
    {
     "name": "stdout",
     "output_type": "stream",
     "text": [
      "Model predictions on sample reviews:\n",
      "Review: This movie was absolutely amazing! The acting was ...\n",
      "Sentiment: Negative (probability: 0.4277)\n",
      "--------------------------------------------------\n",
      "Review: I was thoroughly disappointed with this film. The ...\n",
      "Sentiment: Negative (probability: 0.4277)\n",
      "--------------------------------------------------\n",
      "Review: It was okay. Nothing special but not terrible eith...\n",
      "Sentiment: Negative (probability: 0.4277)\n",
      "--------------------------------------------------\n",
      "Review: Despite some flaws in the plot, the movie had grea...\n",
      "Sentiment: Positive (probability: 0.6677)\n",
      "--------------------------------------------------\n"
     ]
    }
   ],
   "source": [
    "def predict_sentiment(model, text, vocab, max_len=200):\n",
    "    \"\"\"Predict sentiment for a single text input\"\"\"\n",
    "    # Preprocess\n",
    "    tokens = preprocess_text(text)\n",
    "    # Encode\n",
    "    encoded = encode_review(tokens, vocab, max_len)\n",
    "    # Convert to tensor\n",
    "    tensor = torch.tensor(encoded).unsqueeze(0).to(device)  # Add batch dimension\n",
    "\n",
    "    # Set model to evaluation mode\n",
    "    model.eval()\n",
    "\n",
    "    # Get prediction\n",
    "    with torch.no_grad():\n",
    "        prediction = torch.sigmoid(model(tensor).squeeze(1))\n",
    "\n",
    "    # Return probability and sentiment\n",
    "    probability = prediction.item()\n",
    "    sentiment = \"Positive\" if probability >= 0.5 else \"Negative\"\n",
    "\n",
    "    return probability, sentiment\n",
    "\n",
    "# Test on some examples\n",
    "sample_reviews = [\n",
    "    \"This movie was absolutely amazing! The acting was superb and the plot was engaging.\",\n",
    "    \"I was thoroughly disappointed with this film. The story made no sense and the acting was terrible.\",\n",
    "    \"It was okay. Nothing special but not terrible either.\",\n",
    "    \"Despite some flaws in the plot, the movie had great visual effects and good performances.\"\n",
    "]\n",
    "\n",
    "print(\"Model predictions on sample reviews:\")\n",
    "for review in sample_reviews:\n",
    "    prob, sent = predict_sentiment(model, review, vocab)\n",
    "    print(f\"Review: {review[:50]}...\")\n",
    "    print(f\"Sentiment: {sent} (probability: {prob:.4f})\")\n",
    "    print(\"-\" * 50)\n"
   ]
  },
  {
   "cell_type": "code",
   "execution_count": null,
   "id": "ifZ137uoH8tC",
   "metadata": {
    "id": "ifZ137uoH8tC"
   },
   "outputs": [],
   "source": []
  },
  {
   "cell_type": "markdown",
   "id": "68a449c4",
   "metadata": {
    "id": "68a449c4"
   },
   "source": [
    "Task :\n",
    "1. train a 1/3 layered network and compare the results\n",
    "2. change the task from many to one to many to many tasK"
   ]
  },
  {
   "cell_type": "markdown",
   "id": "ba72258c",
   "metadata": {
    "id": "ba72258c"
   },
   "source": []
  },
  {
   "cell_type": "code",
   "execution_count": null,
   "id": "f3261e5c",
   "metadata": {
    "id": "f3261e5c",
    "outputId": "0e323705-040b-4533-a53f-52d78904adf6"
   },
   "outputs": [
    {
     "name": "stdout",
     "output_type": "stream",
     "text": [
      "Model saved successfully!\n"
     ]
    }
   ],
   "source": [
    "# Save model\n",
    "torch.save({\n",
    "    'model_state_dict': model.state_dict(),\n",
    "    'vocab': vocab,\n",
    "    'model_params': {\n",
    "        'vocab_size': vocab_size,\n",
    "        'embedding_dim': embedding_dim,\n",
    "        'hidden_dim': hidden_dim,\n",
    "        'output_dim': output_dim,\n",
    "        'n_layers': n_layers\n",
    "    }\n",
    "}, 'lstm_sentiment_model.pt')\n",
    "\n",
    "print(\"Model saved successfully!\")"
   ]
  }
 ],
 "metadata": {
  "accelerator": "GPU",
  "colab": {
   "gpuType": "T4",
   "provenance": []
  },
  "kernelspec": {
   "display_name": "Python 3",
   "name": "python3"
  },
  "language_info": {
   "codemirror_mode": {
    "name": "ipython",
    "version": 3
   },
   "file_extension": ".py",
   "mimetype": "text/x-python",
   "name": "python",
   "nbconvert_exporter": "python",
   "pygments_lexer": "ipython3",
   "version": "3.12.4"
  }
 },
 "nbformat": 4,
 "nbformat_minor": 5
}
